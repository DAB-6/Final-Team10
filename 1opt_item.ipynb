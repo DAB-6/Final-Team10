{
  "nbformat": 4,
  "nbformat_minor": 0,
  "metadata": {
    "colab": {
      "provenance": [],
      "machine_shape": "hm",
      "collapsed_sections": [
        "RwgBsZntR13-",
        "o2JV2ApIR5hj"
      ],
      "mount_file_id": "1uriNb0kmhDnaCczrT5RtcyiWGSqYm8QR",
      "authorship_tag": "ABX9TyO4/rpASn/cgSeLYrn+twS5",
      "include_colab_link": true
    },
    "kernelspec": {
      "name": "python3",
      "display_name": "Python 3"
    },
    "language_info": {
      "name": "python"
    }
  },
  "cells": [
    {
      "cell_type": "markdown",
      "metadata": {
        "id": "view-in-github",
        "colab_type": "text"
      },
      "source": [
        "<a href=\"https://colab.research.google.com/github/LeeMooHeon/Final-Team10/blob/main/1opt_item.ipynb\" target=\"_parent\"><img src=\"https://colab.research.google.com/assets/colab-badge.svg\" alt=\"Open In Colab\"/></a>"
      ]
    },
    {
      "cell_type": "code",
      "source": [
        "# ✅ Colab 환경 고정 세팅 (항상 맨 위에 실행!)\n",
        "!pip install -q numpy==1.26.4\n",
        "!pip install -q scikit-surprise==1.1.3\n",
        "!pip install -q optuna==3.6.1\n",
        "\n",
        "import numpy as np, pandas as pd, optuna\n",
        "from surprise import Dataset, Reader, SVD\n",
        "from surprise.model_selection import train_test_split\n",
        "from sklearn.metrics.pairwise import cosine_similarity\n",
        "print(\"✅ 환경 세팅 완료 (numpy 1.26.4 / scikit-surprise 1.1.3 / optuna 3.6.1)\")\n"
      ],
      "metadata": {
        "colab": {
          "base_uri": "https://localhost:8080/"
        },
        "id": "81jeiA8G7xuH",
        "outputId": "22950ce0-3ff4-49ce-a860-696773ce8201"
      },
      "execution_count": null,
      "outputs": [
        {
          "output_type": "stream",
          "name": "stdout",
          "text": [
            "✅ 환경 세팅 완료 (numpy 1.26.4 / scikit-surprise 1.1.3 / optuna 3.6.1)\n"
          ]
        }
      ]
    },
    {
      "cell_type": "code",
      "execution_count": null,
      "metadata": {
        "id": "vcFQ8Cr18dOZ"
      },
      "outputs": [],
      "source": [
        "import matplotlib.pyplot as plt\n",
        "import numpy as np\n",
        "import pandas as pd\n",
        "\n",
        "pd.set_option(\"display.max_columns\", None)  # 모든 컬럼 표시\n",
        "pd.set_option(\"display.width\", 2000)        # 한 줄에 표시할 폭 늘리기\n",
        "pd.set_option(\"display.max_colwidth\", None) # 문자열 잘림 방지"
      ]
    },
    {
      "cell_type": "markdown",
      "source": [
        "# **한글**"
      ],
      "metadata": {
        "id": "RwgBsZntR13-"
      }
    },
    {
      "cell_type": "code",
      "source": [
        "!sudo apt-get install -y fonts-nanum\n",
        "!sudo fc-cache -fv\n",
        "!rm ~/.cache/matplotlib -rf\n",
        "\n",
        "\n",
        "plt.rc('font', family='NanumGothic')\n",
        "plt.rcParams['axes.unicode_minus'] =False"
      ],
      "metadata": {
        "id": "WK7w7ENPKn1l",
        "colab": {
          "base_uri": "https://localhost:8080/"
        },
        "outputId": "bc45b3e9-523f-46a9-afa0-b2a85ad32308"
      },
      "execution_count": null,
      "outputs": [
        {
          "output_type": "stream",
          "name": "stdout",
          "text": [
            "Reading package lists... Done\n",
            "Building dependency tree... Done\n",
            "Reading state information... Done\n",
            "fonts-nanum is already the newest version (20200506-1).\n",
            "0 upgraded, 0 newly installed, 0 to remove and 35 not upgraded.\n",
            "/usr/share/fonts: caching, new cache contents: 0 fonts, 1 dirs\n",
            "/usr/share/fonts/truetype: caching, new cache contents: 0 fonts, 3 dirs\n",
            "/usr/share/fonts/truetype/humor-sans: caching, new cache contents: 1 fonts, 0 dirs\n",
            "/usr/share/fonts/truetype/liberation: caching, new cache contents: 16 fonts, 0 dirs\n",
            "/usr/share/fonts/truetype/nanum: caching, new cache contents: 12 fonts, 0 dirs\n",
            "/usr/local/share/fonts: caching, new cache contents: 0 fonts, 0 dirs\n",
            "/root/.local/share/fonts: skipping, no such directory\n",
            "/root/.fonts: skipping, no such directory\n",
            "/usr/share/fonts/truetype: skipping, looped directory detected\n",
            "/usr/share/fonts/truetype/humor-sans: skipping, looped directory detected\n",
            "/usr/share/fonts/truetype/liberation: skipping, looped directory detected\n",
            "/usr/share/fonts/truetype/nanum: skipping, looped directory detected\n",
            "/var/cache/fontconfig: cleaning cache directory\n",
            "/root/.cache/fontconfig: not cleaning non-existent cache directory\n",
            "/root/.fontconfig: not cleaning non-existent cache directory\n",
            "fc-cache: succeeded\n"
          ]
        }
      ]
    },
    {
      "cell_type": "markdown",
      "source": [
        "# **데이터 불러오기 및 전처리**"
      ],
      "metadata": {
        "id": "o2JV2ApIR5hj"
      }
    },
    {
      "cell_type": "code",
      "source": [
        "from google.colab import drive\n",
        "import pandas as pd\n",
        "\n",
        "\n",
        "# 1. 구글 드라이브 마운트\n",
        "drive.mount('/content/drive')\n",
        "\n",
        "# 2. 데이터 불러오기\n",
        "base_path = \"/content/drive/MyDrive\"\n",
        "\n",
        "links = pd.read_csv(f\"{base_path}/links.csv\")\n",
        "movies = pd.read_csv(f\"{base_path}/movies.csv\")\n",
        "ratings = pd.read_csv(f\"{base_path}/ratings.csv\")\n",
        "tags = pd.read_csv(f\"{base_path}/tags.csv\")\n",
        "\n",
        "\n",
        "\n",
        "# 확인\n",
        "#print(links.shape, movies.shape, ratings.shape, tags.shape)\n",
        "#"
      ],
      "metadata": {
        "id": "eDQosfTd7uam",
        "colab": {
          "base_uri": "https://localhost:8080/"
        },
        "outputId": "892378b5-8365-4832-d86f-083fa5265338"
      },
      "execution_count": null,
      "outputs": [
        {
          "output_type": "stream",
          "name": "stdout",
          "text": [
            "Drive already mounted at /content/drive; to attempt to forcibly remount, call drive.mount(\"/content/drive\", force_remount=True).\n"
          ]
        }
      ]
    },
    {
      "cell_type": "code",
      "source": [
        "# timestamp → datetime 변환\n",
        "ratings['timestamp'] = pd.to_datetime(ratings['timestamp'], unit='s')\n",
        "tags['timestamp'] = pd.to_datetime(tags['timestamp'], unit='s')\n",
        "\n",
        "# 2020년 이후 데이터만 사용\n",
        "cutoff_date = pd.Timestamp('2020-01-01')\n",
        "ratings = ratings[ratings['timestamp'] >= cutoff_date].copy()\n",
        "tags = tags[tags['timestamp'] >= cutoff_date].copy()\n",
        "\n",
        "# ratings에 존재하는 영화만 필터링\n",
        "movie_ids = ratings['movieId'].unique()\n",
        "movies = movies[movies['movieId'].isin(movie_ids)].copy()\n",
        "links = links[links['movieId'].isin(movie_ids)].copy()\n",
        "\n",
        "# 마지막 날짜 확인\n",
        "last_rating_date = ratings['timestamp'].max()\n",
        "last_tag_date = tags['timestamp'].max()\n",
        "\n",
        "# 확인 출력\n",
        "print(\"ratings shape:\", ratings.shape)\n",
        "#print(\"tags shape:\", tags.shape)\n",
        "#print(\"movies shape:\", movies.shape)\n",
        "#print(\"links shape:\", links.shape)\n",
        "#print(\"ratings 마지막 날짜:\", last_rating_date)\n",
        "#print(\"tags 마지막 날짜:\", last_tag_date)\n"
      ],
      "metadata": {
        "id": "ta7y8aja9x1Z",
        "colab": {
          "base_uri": "https://localhost:8080/"
        },
        "outputId": "dc7dfe3e-c6a7-41a0-bb7a-7ebd5cea1e72"
      },
      "execution_count": null,
      "outputs": [
        {
          "output_type": "stream",
          "name": "stdout",
          "text": [
            "ratings shape: (4635230, 4)\n"
          ]
        }
      ]
    },
    {
      "cell_type": "markdown",
      "source": [
        "# **인기/숨겨진 보석 가중치 설정**"
      ],
      "metadata": {
        "id": "yu5sfOoXk2IA"
      }
    },
    {
      "cell_type": "code",
      "source": [
        "# 인기 / 숨겨진 보석\n",
        "\n",
        "# 상위 1% 기준\n",
        "popular_threshold = ratings.groupby(\"movieId\")[\"rating\"].count().quantile(0.99)\n",
        "\n",
        "movie_stats = ratings.groupby(\"movieId\").agg(\n",
        "    count=(\"rating\", \"count\"),\n",
        "    mean_rating=(\"rating\", \"mean\")\n",
        ").reset_index()\n",
        "\n",
        "# 인기(Top 1%) 평균 평점\n",
        "popular_avg = movie_stats.loc[movie_stats[\"count\"] >= popular_threshold, \"mean_rating\"].mean()\n",
        "\n",
        "# 인기 영화: 평점 수 상위 1%\n",
        "movie_stats[\"is_popular\"] = movie_stats[\"count\"] >= popular_threshold\n",
        "\n",
        "# 숨겨진 보석: 평점 수 상위 10%~1% 구간 & 인기 평균 평점보다 높음\n",
        "movie_stats[\"is_hidden_gem\"] = (\n",
        "    (movie_stats[\"count\"] >= movie_stats[\"count\"].quantile(0.90)) &\n",
        "    (movie_stats[\"count\"] < popular_threshold) &\n",
        "    (movie_stats[\"mean_rating\"] > popular_avg)\n",
        ")\n",
        "\n",
        "# 가중치 → 튜닝 대상 (값 없음, Optuna에서 할당)\n",
        "POPULAR_WEIGHT = None\n",
        "HIDDEN_GEM_WEIGHT = None\n"
      ],
      "metadata": {
        "id": "xeG_4O2Oknse"
      },
      "execution_count": null,
      "outputs": []
    },
    {
      "cell_type": "markdown",
      "source": [
        "# **장르별 분산 가중치 설정**"
      ],
      "metadata": {
        "id": "ea8Un1qnbU9s"
      }
    },
    {
      "cell_type": "code",
      "source": [
        "# 장르별 분산\n",
        "\n",
        "movies['genres_list'] = movies['genres'].str.split('|')\n",
        "ratings_exploded = ratings.merge(movies[['movieId','genres_list']], on='movieId', how='left').explode('genres_list')\n",
        "\n",
        "genre_variance = ratings_exploded.groupby(\"genres_list\")[\"rating\"].var().to_dict()\n",
        "\n",
        "# 가중치 → 튜닝 대상\n",
        "GENRE_VAR_WEIGHT = None\n"
      ],
      "metadata": {
        "id": "tEMccBGYb4Z3"
      },
      "execution_count": null,
      "outputs": []
    },
    {
      "cell_type": "markdown",
      "source": [
        "# **멀티 장르 가중치 설정**"
      ],
      "metadata": {
        "id": "5BsDanHYbcX4"
      }
    },
    {
      "cell_type": "code",
      "source": [
        "# 멀티/단일 장르\n",
        "\n",
        "movies[\"is_multi_genre\"] = movies[\"genres_list\"].apply(lambda x: len(x) > 1)\n",
        "\n",
        "# 가중치 → 튜닝 대상\n",
        "MULTI_GENRE_WEIGHT = None\n",
        "SINGLE_GENRE_WEIGHT = None\n"
      ],
      "metadata": {
        "id": "iu2wsMqySMRw"
      },
      "execution_count": null,
      "outputs": []
    },
    {
      "cell_type": "markdown",
      "source": [
        "# **Optuna SVD**"
      ],
      "metadata": {
        "id": "nlaDaGuDYTXu"
      }
    },
    {
      "cell_type": "code",
      "source": [
        "# 라이브러리\n",
        "import numpy as np\n",
        "import pandas as pd\n",
        "import optuna\n",
        "from surprise import SVD, Dataset, Reader\n",
        "from surprise.model_selection import train_test_split\n",
        "from sklearn.metrics.pairwise import cosine_similarity\n",
        "\n",
        "# Surprise 데이터셋 & SVD 학습 (ratings 사용!)\n",
        "reader = Reader(rating_scale=(0.5, 5.0))\n",
        "data = Dataset.load_from_df(ratings[['userId','movieId','rating']], reader)\n",
        "trainset, testset = train_test_split(data, test_size=0.2, random_state=42)\n",
        "\n",
        "svd_model = SVD(n_factors=100, n_epochs=30, random_state=42)\n",
        "svd_model.fit(trainset)\n",
        "\n",
        "# 아이템 임베딩(Q)\n",
        "item_factors = np.array([svd_model.qi[i] for i in range(len(trainset.all_items()))])\n",
        "item_index_to_id = {i: int(trainset.to_raw_iid(i)) for i in range(len(trainset.all_items()))}\n",
        "item_id_to_index = {v: k for k, v in item_index_to_id.items()}\n",
        "\n",
        "# 사용자 히스토리/전역 평균 (ratings 사용!)\n",
        "global_mean = ratings['rating'].mean()\n",
        "user_hist = (\n",
        "    ratings\n",
        "    .groupby('userId')[['movieId','rating']]\n",
        "    .apply(lambda df: list(map(tuple, df.values)))\n",
        "    .to_dict()\n",
        ")\n",
        "\n",
        "# 장르 분산 보조 함수 (장르 분산 계산은 ratings_exploded 기반 유지)\n",
        "def _adj_vf(mid):\n",
        "    genres = movies.loc[movies[\"movieId\"]==mid, \"genres_list\"].values\n",
        "    if len(genres) and isinstance(genres[0], list) and len(genres[0]) > 0:\n",
        "        vals = []\n",
        "        for g in genres[0]:\n",
        "            v = genre_variance.get(g, 1.0)\n",
        "            if not np.isfinite(v):\n",
        "                v = 1.0\n",
        "            vals.append(1.0 / (1.0 + v))\n",
        "        return float(np.mean(vals))\n",
        "    return 0.0\n",
        "\n",
        "# 평점용 보정(학습/평가용)\n",
        "def _adjust_rating_score(score, mid, pop_w, gem_w, genre_w, multi_w, single_w):\n",
        "    s = float(score)\n",
        "    if movie_stats.loc[movie_stats[\"movieId\"]==mid, \"is_popular\"].any():\n",
        "        s += pop_w\n",
        "    if movie_stats.loc[movie_stats[\"movieId\"]==mid, \"is_hidden_gem\"].any():\n",
        "        s += gem_w\n",
        "    s += genre_w * _adj_vf(mid)\n",
        "    is_multi = movies.loc[movies[\"movieId\"]==mid, \"is_multi_genre\"].values\n",
        "    if len(is_multi):\n",
        "        s += (multi_w if bool(is_multi[0]) else single_w)\n",
        "    return float(np.clip(s, 0.5, 5.0))\n",
        "\n",
        "# 유사도용 보정(추천 랭킹용)\n",
        "def _adjust_sim_score(sim, mid, pop_w, gem_w, genre_w, multi_w, single_w):\n",
        "    base = max(0.0, float(sim))  # 음수 유사도 컷\n",
        "    bonus = 0.0\n",
        "    if movie_stats.loc[movie_stats[\"movieId\"]==mid, \"is_popular\"].any():\n",
        "        bonus += pop_w\n",
        "    if movie_stats.loc[movie_stats[\"movieId\"]==mid, \"is_hidden_gem\"].any():\n",
        "        bonus += gem_w\n",
        "    bonus += genre_w * _adj_vf(mid)\n",
        "    is_multi = movies.loc[movies[\"movieId\"]==mid, \"is_multi_genre\"].values\n",
        "    if len(is_multi):\n",
        "        bonus += (multi_w if bool(is_multi[0]) else single_w)\n",
        "    return base + bonus\n",
        "\n",
        "# 아이템 기반 예측치(사용자 히스토리 기반 k-NN 가중 평균)\n",
        "def _predict_by_item_knn(uid, iid, top_m=30):\n",
        "    hist = user_hist.get(uid, [])\n",
        "    if not hist or iid not in item_id_to_index:\n",
        "        return global_mean\n",
        "    tgt_idx = item_id_to_index[iid]\n",
        "    tgt_vec = item_factors[tgt_idx].reshape(1, -1)\n",
        "\n",
        "    cand = [(mid, r) for (mid, r) in hist if (mid != iid and mid in item_id_to_index)]\n",
        "    if not cand:\n",
        "        return global_mean\n",
        "    cand_indices = np.array([item_id_to_index[mid] for (mid, _) in cand])\n",
        "    cand_ratings = np.array([r for (_, r) in cand], dtype=float)\n",
        "\n",
        "    sims = cosine_similarity(tgt_vec, item_factors[cand_indices])[0]\n",
        "    if len(sims) > top_m:\n",
        "        top_idx = np.argpartition(-sims, top_m-1)[:top_m]\n",
        "        sims = sims[top_idx]; cand_ratings = cand_ratings[top_idx]\n",
        "\n",
        "    denom = np.sum(np.abs(sims)) + 1e-8\n",
        "    return float(np.sum(sims * cand_ratings) / denom)\n",
        "\n",
        "# Optuna: 가중치 최적화 (RMSE 최소화) — 5개 가중치 범위는 0~0.5\n",
        "def objective(trial):\n",
        "    pop_w   = trial.suggest_float('POPULAR_WEIGHT', 0.0, 0.5)\n",
        "    gem_w   = trial.suggest_float('HIDDEN_GEM_WEIGHT', 0.0, 0.5)\n",
        "    genre_w = trial.suggest_float('GENRE_VAR_WEIGHT', 0.0, 0.5)\n",
        "    multi_w = trial.suggest_float('MULTI_GENRE_WEIGHT', 0.0, 0.5)\n",
        "    single_w= trial.suggest_float('SINGLE_GENRE_WEIGHT', 0.0, 0.5)\n",
        "\n",
        "    EVAL_SAMPLE = min(3000, len(testset))\n",
        "    sq_err = []\n",
        "    for (uid, iid, true_r) in testset[:EVAL_SAMPLE]:\n",
        "        base = _predict_by_item_knn(uid, iid, top_m=30)\n",
        "        adj = _adjust_rating_score(base, iid, pop_w, gem_w, genre_w, multi_w, single_w)\n",
        "        sq_err.append((true_r - adj) ** 2)\n",
        "\n",
        "    return float(np.sqrt(np.mean(sq_err))) if sq_err else 1e9\n",
        "\n",
        "study = optuna.create_study(direction=\"minimize\", sampler=optuna.samplers.TPESampler(seed=42))\n",
        "study.optimize(objective, n_trials=20, show_progress_bar=False)\n",
        "best_params = study.best_params\n",
        "print(\"Best params:\", best_params)\n",
        "print(\"Best RMSE:\", study.best_value)\n",
        "\n",
        "# 추천: 보정 후 재정렬 + 후보 풀(pool) 적용 + 통계 컬럼 포함 반환\n",
        "# 추가 조건: 추천 대상은 평점 개수 상위 10% 이상만 허용\n",
        "rec_count_threshold = movie_stats['count'].quantile(0.90)\n",
        "count_lookup = movie_stats.set_index('movieId')['count'].to_dict()\n",
        "\n",
        "def recommend_similar_movies(movie_ids, top_n=10, params=None, pool_size=500):\n",
        "    if isinstance(movie_ids, int):\n",
        "        movie_ids = [movie_ids]\n",
        "    valid_ids = [mid for mid in movie_ids if mid in item_id_to_index]\n",
        "    if not valid_ids:\n",
        "        return pd.DataFrame(columns=['movieId','title','score','mean_rating','count'])\n",
        "\n",
        "    base_vecs = [item_factors[item_id_to_index[mid]] for mid in valid_ids]\n",
        "    base_vec = np.mean(base_vecs, axis=0).reshape(1, -1)\n",
        "    sims = cosine_similarity(base_vec, item_factors)[0]\n",
        "\n",
        "    exclude = {item_id_to_index[mid] for mid in valid_ids}\n",
        "    order = np.argsort(-sims)\n",
        "\n",
        "    cand_idx = []\n",
        "    for idx in order:\n",
        "        if idx in exclude:\n",
        "            continue\n",
        "        cand_idx.append(idx)\n",
        "        if len(cand_idx) >= pool_size:\n",
        "            break\n",
        "\n",
        "    rows = []\n",
        "    for idx in cand_idx:\n",
        "        mid = item_index_to_id[idx]\n",
        "        # 평점 개수 상위 10% 필터\n",
        "        if count_lookup.get(mid, 0) < rec_count_threshold:\n",
        "            continue\n",
        "\n",
        "        base = float(sims[idx])\n",
        "        score = base if not params else _adjust_sim_score(\n",
        "            base, mid,\n",
        "            params['POPULAR_WEIGHT'],\n",
        "            params['HIDDEN_GEM_WEIGHT'],\n",
        "            params['GENRE_VAR_WEIGHT'],\n",
        "            params['MULTI_GENRE_WEIGHT'],\n",
        "            params['SINGLE_GENRE_WEIGHT'],\n",
        "        )\n",
        "        rows.append((mid, score, base))\n",
        "\n",
        "    if not rows:\n",
        "        return pd.DataFrame(columns=['movieId','title','score','mean_rating','count'])\n",
        "\n",
        "    df = pd.DataFrame(rows, columns=['movieId','score','sim'])\n",
        "    df = df.sort_values(['score','sim'], ascending=[False, False]).head(top_n)\n",
        "\n",
        "    out = (\n",
        "        df[['movieId','score']]\n",
        "        .merge(movies[['movieId','title']], on='movieId', how='left')\n",
        "        .merge(movie_stats[['movieId','mean_rating','count']], on='movieId', how='left')\n",
        "    )\n",
        "    out['score'] = out['score'].astype(float).round(4)\n",
        "    out['mean_rating'] = out['mean_rating'].astype(float).round(3)\n",
        "    return out[['movieId','title','score','mean_rating','count']]\n"
      ],
      "metadata": {
        "id": "GAcNOcSGYt8a",
        "colab": {
          "base_uri": "https://localhost:8080/"
        },
        "outputId": "02e633dc-ea0b-43ce-ba4a-09be2b4758dd"
      },
      "execution_count": null,
      "outputs": [
        {
          "output_type": "stream",
          "name": "stderr",
          "text": [
            "[I 2025-09-26 06:28:27,954] A new study created in memory with name: no-name-c20b6644-dcb2-46ea-a455-06261085b682\n",
            "[I 2025-09-26 06:28:44,146] Trial 0 finished with value: 1.0028343204477257 and parameters: {'POPULAR_WEIGHT': 0.18727005942368125, 'HIDDEN_GEM_WEIGHT': 0.4753571532049581, 'GENRE_VAR_WEIGHT': 0.36599697090570255, 'MULTI_GENRE_WEIGHT': 0.2993292420985183, 'SINGLE_GENRE_WEIGHT': 0.07800932022121826}. Best is trial 0 with value: 1.0028343204477257.\n",
            "[I 2025-09-26 06:29:00,079] Trial 1 finished with value: 0.993000468694877 and parameters: {'POPULAR_WEIGHT': 0.07799726016810132, 'HIDDEN_GEM_WEIGHT': 0.02904180608409973, 'GENRE_VAR_WEIGHT': 0.4330880728874676, 'MULTI_GENRE_WEIGHT': 0.3005575058716044, 'SINGLE_GENRE_WEIGHT': 0.35403628889802274}. Best is trial 1 with value: 0.993000468694877.\n",
            "[I 2025-09-26 06:29:15,861] Trial 2 finished with value: 0.9015840131788181 and parameters: {'POPULAR_WEIGHT': 0.010292247147901223, 'HIDDEN_GEM_WEIGHT': 0.48495492608099716, 'GENRE_VAR_WEIGHT': 0.41622132040021087, 'MULTI_GENRE_WEIGHT': 0.10616955533913808, 'SINGLE_GENRE_WEIGHT': 0.09091248360355031}. Best is trial 2 with value: 0.9015840131788181.\n",
            "[I 2025-09-26 06:29:31,904] Trial 3 finished with value: 0.912853043849059 and parameters: {'POPULAR_WEIGHT': 0.09170225492671691, 'HIDDEN_GEM_WEIGHT': 0.15212112147976886, 'GENRE_VAR_WEIGHT': 0.2623782158161189, 'MULTI_GENRE_WEIGHT': 0.21597250932105788, 'SINGLE_GENRE_WEIGHT': 0.14561457009902096}. Best is trial 2 with value: 0.9015840131788181.\n",
            "[I 2025-09-26 06:29:47,580] Trial 4 finished with value: 0.9303233073107448 and parameters: {'POPULAR_WEIGHT': 0.30592644736118974, 'HIDDEN_GEM_WEIGHT': 0.06974693032602092, 'GENRE_VAR_WEIGHT': 0.14607232426760908, 'MULTI_GENRE_WEIGHT': 0.18318092164684585, 'SINGLE_GENRE_WEIGHT': 0.22803499210851796}. Best is trial 2 with value: 0.9015840131788181.\n",
            "[I 2025-09-26 06:30:03,294] Trial 5 finished with value: 1.014811313963294 and parameters: {'POPULAR_WEIGHT': 0.3925879806965068, 'HIDDEN_GEM_WEIGHT': 0.09983689107917987, 'GENRE_VAR_WEIGHT': 0.2571172192068058, 'MULTI_GENRE_WEIGHT': 0.29620728443102123, 'SINGLE_GENRE_WEIGHT': 0.023225206359998862}. Best is trial 2 with value: 0.9015840131788181.\n",
            "[I 2025-09-26 06:30:18,913] Trial 6 finished with value: 1.043465030136178 and parameters: {'POPULAR_WEIGHT': 0.3037724259507192, 'HIDDEN_GEM_WEIGHT': 0.08526206184364576, 'GENRE_VAR_WEIGHT': 0.03252579649263976, 'MULTI_GENRE_WEIGHT': 0.4744427686266666, 'SINGLE_GENRE_WEIGHT': 0.4828160165372797}. Best is trial 2 with value: 0.9015840131788181.\n",
            "[I 2025-09-26 06:30:34,314] Trial 7 finished with value: 1.0015091808990837 and parameters: {'POPULAR_WEIGHT': 0.40419867405823057, 'HIDDEN_GEM_WEIGHT': 0.15230688458668534, 'GENRE_VAR_WEIGHT': 0.048836057003191935, 'MULTI_GENRE_WEIGHT': 0.34211651325607845, 'SINGLE_GENRE_WEIGHT': 0.22007624686980065}. Best is trial 2 with value: 0.9015840131788181.\n",
            "[I 2025-09-26 06:30:50,365] Trial 8 finished with value: 0.9511885660989411 and parameters: {'POPULAR_WEIGHT': 0.06101911742238941, 'HIDDEN_GEM_WEIGHT': 0.2475884550556351, 'GENRE_VAR_WEIGHT': 0.017194260557609198, 'MULTI_GENRE_WEIGHT': 0.45466020103939103, 'SINGLE_GENRE_WEIGHT': 0.12938999080000846}. Best is trial 2 with value: 0.9015840131788181.\n",
            "[I 2025-09-26 06:31:06,495] Trial 9 finished with value: 0.9928255523529481 and parameters: {'POPULAR_WEIGHT': 0.331261142176991, 'HIDDEN_GEM_WEIGHT': 0.15585553804470548, 'GENRE_VAR_WEIGHT': 0.2600340105889054, 'MULTI_GENRE_WEIGHT': 0.2733551396716398, 'SINGLE_GENRE_WEIGHT': 0.09242722776276352}. Best is trial 2 with value: 0.9015840131788181.\n",
            "[I 2025-09-26 06:31:22,760] Trial 10 finished with value: 0.9387157915797859 and parameters: {'POPULAR_WEIGHT': 0.19302660662587828, 'HIDDEN_GEM_WEIGHT': 0.4663576416884421, 'GENRE_VAR_WEIGHT': 0.4847685553939328, 'MULTI_GENRE_WEIGHT': 0.014802708511848062, 'SINGLE_GENRE_WEIGHT': 0.3259332753890891}. Best is trial 2 with value: 0.9015840131788181.\n",
            "[I 2025-09-26 06:31:38,617] Trial 11 finished with value: 0.8855926050439473 and parameters: {'POPULAR_WEIGHT': 0.015701794473181648, 'HIDDEN_GEM_WEIGHT': 0.3773794119029143, 'GENRE_VAR_WEIGHT': 0.32896942251349115, 'MULTI_GENRE_WEIGHT': 0.10028275052665439, 'SINGLE_GENRE_WEIGHT': 0.17088139088357462}. Best is trial 11 with value: 0.8855926050439473.\n",
            "[I 2025-09-26 06:31:54,969] Trial 12 finished with value: 0.8860186871998722 and parameters: {'POPULAR_WEIGHT': 0.007866733990048032, 'HIDDEN_GEM_WEIGHT': 0.3746706990506082, 'GENRE_VAR_WEIGHT': 0.3724013610669022, 'MULTI_GENRE_WEIGHT': 0.07977666607309333, 'SINGLE_GENRE_WEIGHT': 0.17125799686887827}. Best is trial 11 with value: 0.8855926050439473.\n",
            "[I 2025-09-26 06:32:11,039] Trial 13 finished with value: 0.8727689082877422 and parameters: {'POPULAR_WEIGHT': 0.0055215699863765625, 'HIDDEN_GEM_WEIGHT': 0.3672792749815095, 'GENRE_VAR_WEIGHT': 0.3356643518375642, 'MULTI_GENRE_WEIGHT': 0.004502651513702202, 'SINGLE_GENRE_WEIGHT': 0.29562039185147065}. Best is trial 13 with value: 0.8727689082877422.\n",
            "[I 2025-09-26 06:32:27,118] Trial 14 finished with value: 0.893524514397122 and parameters: {'POPULAR_WEIGHT': 0.14133189921481862, 'HIDDEN_GEM_WEIGHT': 0.34476830056032093, 'GENRE_VAR_WEIGHT': 0.31983183838505547, 'MULTI_GENRE_WEIGHT': 0.025273770051450067, 'SINGLE_GENRE_WEIGHT': 0.3138214726279748}. Best is trial 13 with value: 0.8727689082877422.\n",
            "[I 2025-09-26 06:32:42,892] Trial 15 finished with value: 0.9911158092668776 and parameters: {'POPULAR_WEIGHT': 0.48284728772098684, 'HIDDEN_GEM_WEIGHT': 0.3630271063565028, 'GENRE_VAR_WEIGHT': 0.1713996441331581, 'MULTI_GENRE_WEIGHT': 0.13413182447069497, 'SINGLE_GENRE_WEIGHT': 0.41236036803475706}. Best is trial 13 with value: 0.8727689082877422.\n",
            "[I 2025-09-26 06:32:58,701] Trial 16 finished with value: 0.8712825604600601 and parameters: {'POPULAR_WEIGHT': 0.13103794242241004, 'HIDDEN_GEM_WEIGHT': 0.28844658615428825, 'GENRE_VAR_WEIGHT': 0.16804242312431855, 'MULTI_GENRE_WEIGHT': 0.06278885201818224, 'SINGLE_GENRE_WEIGHT': 0.27819902082318126}. Best is trial 16 with value: 0.8712825604600601.\n",
            "[I 2025-09-26 06:33:16,339] Trial 17 finished with value: 0.8664712844333405 and parameters: {'POPULAR_WEIGHT': 0.13792498941819023, 'HIDDEN_GEM_WEIGHT': 0.2793980049170247, 'GENRE_VAR_WEIGHT': 0.15811603875390445, 'MULTI_GENRE_WEIGHT': 0.04687371806982088, 'SINGLE_GENRE_WEIGHT': 0.2737942897416221}. Best is trial 17 with value: 0.8664712844333405.\n",
            "[I 2025-09-26 06:33:32,253] Trial 18 finished with value: 0.9251521426471383 and parameters: {'POPULAR_WEIGHT': 0.22480929659735663, 'HIDDEN_GEM_WEIGHT': 0.26556201517573014, 'GENRE_VAR_WEIGHT': 0.16319644304851838, 'MULTI_GENRE_WEIGHT': 0.15772109938425483, 'SINGLE_GENRE_WEIGHT': 0.39619883972707554}. Best is trial 17 with value: 0.8664712844333405.\n",
            "[I 2025-09-26 06:33:48,122] Trial 19 finished with value: 0.8612183342596993 and parameters: {'POPULAR_WEIGHT': 0.13974606901214937, 'HIDDEN_GEM_WEIGHT': 0.2816835124406072, 'GENRE_VAR_WEIGHT': 0.10325028984445817, 'MULTI_GENRE_WEIGHT': 0.06391216214132, 'SINGLE_GENRE_WEIGHT': 0.25360722514011735}. Best is trial 19 with value: 0.8612183342596993.\n"
          ]
        },
        {
          "output_type": "stream",
          "name": "stdout",
          "text": [
            "Best params: {'POPULAR_WEIGHT': 0.13974606901214937, 'HIDDEN_GEM_WEIGHT': 0.2816835124406072, 'GENRE_VAR_WEIGHT': 0.10325028984445817, 'MULTI_GENRE_WEIGHT': 0.06391216214132, 'SINGLE_GENRE_WEIGHT': 0.25360722514011735}\n",
            "Best RMSE: 0.8612183342596993\n"
          ]
        }
      ]
    },
    {
      "cell_type": "markdown",
      "source": [
        "# **test 출력**"
      ],
      "metadata": {
        "id": "DVJ78J-0oUjk"
      }
    },
    {
      "cell_type": "code",
      "source": [
        "sample_movie = int(movies['movieId'].sample(1, random_state=42).iloc[0])\n",
        "base_title = movies.loc[movies['movieId']==sample_movie, 'title'].values[0]\n",
        "base_stats = movie_stats.loc[movie_stats['movieId']==sample_movie, ['mean_rating','count']].iloc[0]\n",
        "print(f\"기준 영화: {base_title} (movieId={sample_movie})\")\n",
        "print(f\"- 기준 영화 평균 평점: {base_stats['mean_rating']:.3f}, 평점 개수: {int(base_stats['count'])}\")\n",
        "\n",
        "recs = recommend_similar_movies(sample_movie, top_n=10, params=best_params)\n",
        "print(recs)\n"
      ],
      "metadata": {
        "colab": {
          "base_uri": "https://localhost:8080/"
        },
        "id": "JQ-5IlqYnPIK",
        "outputId": "9652bade-0c7f-4382-b879-524fb1dc8160"
      },
      "execution_count": null,
      "outputs": [
        {
          "output_type": "stream",
          "name": "stdout",
          "text": [
            "기준 영화: Here Awhile (2019) (movieId=218739)\n",
            "- 기준 영화 평균 평점: 3.667, 평점 개수: 3\n",
            "   movieId                                           title   score  mean_rating  count\n",
            "0   129514          George Carlin: It's Bad for Ya! (2008)  0.8511        3.928    138\n",
            "1   130970      George Carlin: Life Is Worth Losing (2005)  0.8464        3.973    111\n",
            "2     8528         Dodgeball: A True Underdog Story (2004)  0.6971        3.383   2098\n",
            "3    93838                     The Raid: Redemption (2011)  0.6763        3.853   1104\n",
            "4     3175                             Galaxy Quest (1999)  0.6351        3.766   1410\n",
            "5    54785                                Halloween (2007)  0.6067        2.960    238\n",
            "6     3869  Naked Gun 2 1/2: The Smell of Fear, The (1991)  0.6060        3.632    509\n",
            "7     2296                  Night at the Roxbury, A (1998)  0.5994        2.905    221\n",
            "8     1760                              Spice World (1997)  0.5977        2.000     94\n",
            "9    92058  Human Centipede II (Full Sequence), The (2011)  0.5794        1.769    130\n"
          ]
        }
      ]
    },
    {
      "cell_type": "code",
      "source": [
        "# 테스트: 'Inception' 기준으로 추천 결과 출력\n",
        "\n",
        "# 1) 가능한 한 정확히 'Inception (2010)' 우선, 없으면 'Inception' 포함 타이틀 중 첫 번째\n",
        "title_query = 'Inception (2010)'\n",
        "cand = movies.loc[movies['title'].str.fullmatch(title_query, case=False, na=False), ['movieId','title']]\n",
        "\n",
        "if cand.empty:\n",
        "    cand = movies.loc[movies['title'].str.contains(r'\\bInception\\b', case=False, na=False), ['movieId','title']]\n",
        "\n",
        "# 2) 학습셋(임베딩) 내 존재하는 영화만 사용\n",
        "cand = cand[cand['movieId'].isin(item_id_to_index.keys())]\n",
        "\n",
        "if cand.empty:\n",
        "    print(\"⚠️ 'Inception' 이 학습셋에 없습니다. 다른 영화로 시도해 주세요.\")\n",
        "else:\n",
        "    sample_movie = int(cand.iloc[0]['movieId'])\n",
        "    base_title = cand.iloc[0]['title']\n",
        "\n",
        "    # 기준 영화 통계(평균/개수)\n",
        "    base_stats_row = movie_stats.loc[movie_stats['movieId']==sample_movie, ['mean_rating','count']]\n",
        "    if not base_stats_row.empty:\n",
        "        base_mean = float(base_stats_row.iloc[0]['mean_rating'])\n",
        "        base_cnt  = int(base_stats_row.iloc[0]['count'])\n",
        "        print(f\"기준 영화: {base_title} (movieId={sample_movie})\")\n",
        "        print(f\"- 기준 영화 평균 평점: {base_mean:.3f}, 평점 개수: {base_cnt}\")\n",
        "    else:\n",
        "        print(f\"기준 영화: {base_title} (movieId={sample_movie})\")\n",
        "        print(\"- 기준 영화 통계 없음(필터로 제외됐을 수 있음)\")\n",
        "\n",
        "    # 추천 결과 (인기/보석/장르 가중치 적용)\n",
        "    recs = recommend_similar_movies(sample_movie, top_n=10, params=best_params)\n",
        "    print(recs)\n"
      ],
      "metadata": {
        "colab": {
          "base_uri": "https://localhost:8080/"
        },
        "id": "gvxuECrdnRbw",
        "outputId": "e95855dc-3245-451d-ae20-f4ac3d366b97"
      },
      "execution_count": null,
      "outputs": [
        {
          "output_type": "stream",
          "name": "stdout",
          "text": [
            "기준 영화: Inception (2010) (movieId=79132)\n",
            "- 기준 영화 평균 평점: 4.163, 평점 개수: 15103\n",
            "   movieId                          title   score  mean_rating  count\n",
            "0   109487            Interstellar (2014)  0.9747        4.198  12275\n",
            "1    74458          Shutter Island (2010)  0.8607        4.055   8371\n",
            "2    48780           Prestige, The (2006)  0.8561        4.184   7849\n",
            "3   287699             Oppenheimer (2023)  0.8497        4.083   1152\n",
            "4   167832     The Invisible Guest (2016)  0.8287        4.001    799\n",
            "5   208108             Dark Waters (2019)  0.8281        3.901    930\n",
            "6    91529  Dark Knight Rises, The (2012)  0.8122        3.940   8445\n",
            "7    58559        Dark Knight, The (2008)  0.7827        4.194  13561\n",
            "8    33794           Batman Begins (2005)  0.7434        3.882   8024\n",
            "9   164179                 Arrival (2016)  0.7324        4.066   8691\n"
          ]
        }
      ]
    },
    {
      "cell_type": "code",
      "source": [],
      "metadata": {
        "id": "lsVy4n-Zp5zh"
      },
      "execution_count": null,
      "outputs": []
    }
  ]
}