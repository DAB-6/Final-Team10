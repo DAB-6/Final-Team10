{
  "nbformat": 4,
  "nbformat_minor": 0,
  "metadata": {
    "colab": {
      "provenance": [],
      "mount_file_id": "1uriNb0kmhDnaCczrT5RtcyiWGSqYm8QR",
      "authorship_tag": "ABX9TyPk96OD+biIRLH61XYLcyI8",
      "include_colab_link": true
    },
    "kernelspec": {
      "name": "python3",
      "display_name": "Python 3"
    },
    "language_info": {
      "name": "python"
    }
  },
  "cells": [
    {
      "cell_type": "markdown",
      "metadata": {
        "id": "view-in-github",
        "colab_type": "text"
      },
      "source": [
        "<a href=\"https://colab.research.google.com/github/LeeMooHeon/Final-Team10/blob/main/final_0(%ED%8F%89%EC%A0%90_%EA%B0%9C%EC%88%98%EB%A7%8C).ipynb\" target=\"_parent\"><img src=\"https://colab.research.google.com/assets/colab-badge.svg\" alt=\"Open In Colab\"/></a>"
      ]
    },
    {
      "cell_type": "code",
      "execution_count": null,
      "metadata": {
        "id": "vcFQ8Cr18dOZ"
      },
      "outputs": [],
      "source": [
        "import pandas as pd\n",
        "\n",
        "links = pd.read_csv('links.csv')\n",
        "movies = pd.read_csv('movies.csv')\n",
        "ratings = pd.read_csv('ratings.csv')\n",
        "tags = pd.read_csv('tags.csv')"
      ]
    },
    {
      "cell_type": "code",
      "source": [
        "from google.colab import drive\n",
        "import pandas as pd\n",
        "\n",
        "# 1. 구글 드라이브 마운트\n",
        "drive.mount('/content/drive')\n",
        "\n",
        "# 2. 데이터 불러오기\n",
        "base_path = \"/content/drive/MyDrive\"\n",
        "\n",
        "links = pd.read_csv(f\"{base_path}/links.csv\")\n",
        "movies = pd.read_csv(f\"{base_path}/movies.csv\")\n",
        "ratings = pd.read_csv(f\"{base_path}/ratings.csv\")\n",
        "tags = pd.read_csv(f\"{base_path}/tags.csv\")\n",
        "\n",
        "# 확인\n",
        "print(links.shape, movies.shape, ratings.shape, tags.shape)"
      ],
      "metadata": {
        "colab": {
          "base_uri": "https://localhost:8080/"
        },
        "id": "eDQosfTd7uam",
        "outputId": "270d0038-1bdf-4f1a-ac59-7d409b2d2c57"
      },
      "execution_count": null,
      "outputs": [
        {
          "output_type": "stream",
          "name": "stdout",
          "text": [
            "Drive already mounted at /content/drive; to attempt to forcibly remount, call drive.mount(\"/content/drive\", force_remount=True).\n",
            "(87585, 3) (87585, 3) (32000204, 4) (2000072, 4)\n",
            "Index(['movieId', 'imdbId', 'tmdbId'], dtype='object')\n"
          ]
        }
      ]
    },
    {
      "cell_type": "code",
      "source": [
        "print(links.columns, movies.columns, ratings.columns, tags.columns)"
      ],
      "metadata": {
        "colab": {
          "base_uri": "https://localhost:8080/"
        },
        "id": "zxSadYjzV5zX",
        "outputId": "72056fd7-b08b-4f87-f230-9d27ec8d56b2"
      },
      "execution_count": null,
      "outputs": [
        {
          "output_type": "stream",
          "name": "stdout",
          "text": [
            "Index(['movieId', 'imdbId', 'tmdbId'], dtype='object') Index(['movieId', 'title', 'genres'], dtype='object') Index(['userId', 'movieId', 'rating', 'timestamp'], dtype='object') Index(['userId', 'movieId', 'tag', 'timestamp'], dtype='object')\n"
          ]
        }
      ]
    },
    {
      "cell_type": "code",
      "source": [
        "import pandas as pd\n",
        "\n",
        "# ratings, tags의 timestamp를 datetime으로 변환\n",
        "ratings['timestamp'] = pd.to_datetime(ratings['timestamp'], unit='s')\n",
        "tags['timestamp'] = pd.to_datetime(tags['timestamp'], unit='s')\n",
        "\n",
        "# 2015년 1월 1일 이후 데이터만 추출\n",
        "cutoff_date = pd.Timestamp('2015-01-01')\n",
        "ratings = ratings[ratings['timestamp'] >= cutoff_date].copy()\n",
        "tags = tags[tags['timestamp'] >= cutoff_date].copy()\n",
        "\n",
        "# movies, links도 ratings 기준으로 필터링\n",
        "movie_ids = ratings['movieId'].unique()\n",
        "movies = movies[movies['movieId'].isin(movie_ids)].copy()\n",
        "links = links[links['movieId'].isin(movie_ids)].copy()\n",
        "\n",
        "# 마지막 날짜 확인\n",
        "last_rating_date = ratings['timestamp'].max()\n",
        "last_tag_date = tags['timestamp'].max()\n",
        "\n",
        "# 확인\n",
        "print(\"ratings shape:\", ratings.shape)\n",
        "print(\"tags shape:\", tags.shape)\n",
        "print(\"movies shape:\", movies.shape)\n",
        "print(\"links shape:\", links.shape)\n",
        "print(\"ratings 마지막 날짜:\", last_rating_date)\n",
        "print(\"tags 마지막 날짜:\", last_tag_date)\n"
      ],
      "metadata": {
        "colab": {
          "base_uri": "https://localhost:8080/"
        },
        "id": "ta7y8aja9x1Z",
        "outputId": "3ff214f6-7115-4f0c-ac82-44c6a833f1dd"
      },
      "execution_count": null,
      "outputs": [
        {
          "output_type": "stream",
          "name": "stdout",
          "text": [
            "ratings shape: (12902312, 4)\n",
            "tags shape: (1652355, 4)\n",
            "movies shape: (83780, 3)\n",
            "links shape: (83780, 3)\n",
            "ratings 마지막 날짜: 2023-10-13 02:29:07\n",
            "tags 마지막 날짜: 2023-10-12 23:56:23\n"
          ]
        }
      ]
    },
    {
      "cell_type": "code",
      "source": [
        "import pandas as pd\n",
        "\n",
        "# 사용자별 집계\n",
        "user_stats = ratings.groupby(\"userId\").agg(\n",
        "    rating_count=(\"rating\", \"count\"),\n",
        "    avg_rating=(\"rating\", \"mean\")\n",
        ").reset_index()\n",
        "\n",
        "# 라벨 생성 (평균보다 낮으면 0, 높으면 1)\n",
        "threshold = user_stats[\"avg_rating\"].mean()\n",
        "user_stats[\"label\"] = (user_stats[\"avg_rating\"] > threshold).astype(int)\n",
        "\n",
        "print(user_stats.head())\n"
      ],
      "metadata": {
        "colab": {
          "base_uri": "https://localhost:8080/"
        },
        "id": "GsK7IJas8cRO",
        "outputId": "68af9487-b762-4a60-bda0-5bdbc48db3eb"
      },
      "execution_count": null,
      "outputs": [
        {
          "output_type": "stream",
          "name": "stdout",
          "text": [
            "   userId  rating_count  avg_rating  label\n",
            "0       8            31    4.322581      1\n",
            "1      10            33    3.181818      0\n",
            "2      16           295    2.691525      0\n",
            "3      20           140    3.846429      0\n",
            "4      22            63    3.722222      0\n"
          ]
        }
      ]
    },
    {
      "cell_type": "code",
      "source": [
        "from sklearn.model_selection import train_test_split\n",
        "from sklearn.ensemble import RandomForestClassifier\n",
        "from xgboost import XGBClassifier\n",
        "from sklearn.metrics import classification_report\n",
        "\n",
        "# 입력(X), 출력(y)\n",
        "X = user_stats[[\"rating_count\"]]  # 여기서는 단순히 평점 개수만\n",
        "y = user_stats[\"label\"]\n",
        "\n",
        "# 데이터 분할\n",
        "X_train, X_test, y_train, y_test = train_test_split(X, y, test_size=0.3, random_state=42)\n",
        "\n",
        "# RandomForest\n",
        "rf = RandomForestClassifier(random_state=42)\n",
        "rf.fit(X_train, y_train)\n",
        "y_pred_rf = rf.predict(X_test)\n",
        "\n",
        "print(\"=== RandomForest ===\")\n",
        "print(classification_report(y_test, y_pred_rf))\n",
        "\n",
        "# XGBoost\n",
        "xgb = XGBClassifier(use_label_encoder=False, eval_metric='logloss', random_state=42)\n",
        "xgb.fit(X_train, y_train)\n",
        "y_pred_xgb = xgb.predict(X_test)\n",
        "\n",
        "print(\"=== XGBoost ===\")\n",
        "print(classification_report(y_test, y_pred_xgb))\n"
      ],
      "metadata": {
        "colab": {
          "base_uri": "https://localhost:8080/"
        },
        "id": "7yzjRjSg8cf7",
        "outputId": "b73f5ffe-67f1-4ea6-890b-f7e30470a656"
      },
      "execution_count": null,
      "outputs": [
        {
          "output_type": "stream",
          "name": "stdout",
          "text": [
            "=== RandomForest ===\n",
            "              precision    recall  f1-score   support\n",
            "\n",
            "           0       0.68      0.46      0.55     10137\n",
            "           1       0.63      0.81      0.71     11613\n",
            "\n",
            "    accuracy                           0.65     21750\n",
            "   macro avg       0.65      0.63      0.63     21750\n",
            "weighted avg       0.65      0.65      0.63     21750\n",
            "\n",
            "=== XGBoost ===\n",
            "              precision    recall  f1-score   support\n",
            "\n",
            "           0       0.67      0.48      0.56     10137\n",
            "           1       0.64      0.80      0.71     11613\n",
            "\n",
            "    accuracy                           0.65     21750\n",
            "   macro avg       0.66      0.64      0.63     21750\n",
            "weighted avg       0.65      0.65      0.64     21750\n",
            "\n"
          ]
        },
        {
          "output_type": "stream",
          "name": "stderr",
          "text": [
            "/usr/local/lib/python3.12/dist-packages/xgboost/training.py:183: UserWarning: [00:36:29] WARNING: /workspace/src/learner.cc:738: \n",
            "Parameters: { \"use_label_encoder\" } are not used.\n",
            "\n",
            "  bst.update(dtrain, iteration=i, fobj=obj)\n"
          ]
        }
      ]
    }
  ]
}