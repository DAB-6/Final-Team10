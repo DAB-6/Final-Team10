{
  "nbformat": 4,
  "nbformat_minor": 0,
  "metadata": {
    "colab": {
      "provenance": [],
      "collapsed_sections": [
        "RwgBsZntR13-",
        "o2JV2ApIR5hj",
        "yu5sfOoXk2IA",
        "1o0w2TXdVji4",
        "SuymHRkvfp-P",
        "9I154yLzfFqZ"
      ],
      "mount_file_id": "1uriNb0kmhDnaCczrT5RtcyiWGSqYm8QR",
      "authorship_tag": "ABX9TyMENqL1+cyQnTmD+D6XAlGN",
      "include_colab_link": true
    },
    "kernelspec": {
      "name": "python3",
      "display_name": "Python 3"
    },
    "language_info": {
      "name": "python"
    }
  },
  "cells": [
    {
      "cell_type": "markdown",
      "metadata": {
        "id": "view-in-github",
        "colab_type": "text"
      },
      "source": [
        "<a href=\"https://colab.research.google.com/github/LeeMooHeon/Final-Team10/blob/main/10%ED%8C%80_%EC%9D%B4%EB%AC%B4%ED%97%8C_%EC%9C%A0%EC%A0%80_%EA%B8%B0%EB%B0%98_%EA%B0%80%EC%84%A41.ipynb\" target=\"_parent\"><img src=\"https://colab.research.google.com/assets/colab-badge.svg\" alt=\"Open In Colab\"/></a>"
      ]
    },
    {
      "cell_type": "code",
      "execution_count": null,
      "metadata": {
        "id": "vcFQ8Cr18dOZ",
        "colab": {
          "base_uri": "https://localhost:8080/",
          "height": 35
        },
        "outputId": "4b221ea1-43ec-4c28-836f-a752279008be"
      },
      "outputs": [
        {
          "output_type": "execute_result",
          "data": {
            "text/plain": [
              "\"\\nimport pandas as pd\\n\\nlinks = pd.read_csv('links.csv')\\nmovies = pd.read_csv('movies.csv')\\nratings = pd.read_csv('ratings.csv')\\ntags = pd.read_csv('tags.csv')\\n\""
            ],
            "application/vnd.google.colaboratory.intrinsic+json": {
              "type": "string"
            }
          },
          "metadata": {},
          "execution_count": 1
        }
      ],
      "source": [
        "'''\n",
        "import pandas as pd\n",
        "\n",
        "links = pd.read_csv('links.csv')\n",
        "movies = pd.read_csv('movies.csv')\n",
        "ratings = pd.read_csv('ratings.csv')\n",
        "tags = pd.read_csv('tags.csv')\n",
        "'''"
      ]
    },
    {
      "cell_type": "markdown",
      "source": [
        "# **한글**"
      ],
      "metadata": {
        "id": "RwgBsZntR13-"
      }
    },
    {
      "cell_type": "code",
      "source": [
        "!sudo apt-get install -y fonts-nanum\n",
        "!sudo fc-cache -fv\n",
        "!rm ~/.cache/matplotlib -rf\n",
        "\n",
        "import matplotlib.pyplot as plt\n",
        "plt.rc('font', family='NanumGothic')\n",
        "plt.rcParams['axes.unicode_minus'] =False\n"
      ],
      "metadata": {
        "id": "WK7w7ENPKn1l",
        "colab": {
          "base_uri": "https://localhost:8080/"
        },
        "outputId": "6b501f6c-d0f4-4d41-c1c4-78564b23d9ed"
      },
      "execution_count": null,
      "outputs": [
        {
          "output_type": "stream",
          "name": "stdout",
          "text": [
            "Reading package lists... Done\n",
            "Building dependency tree... Done\n",
            "Reading state information... Done\n",
            "fonts-nanum is already the newest version (20200506-1).\n",
            "0 upgraded, 0 newly installed, 0 to remove and 38 not upgraded.\n",
            "/usr/share/fonts: caching, new cache contents: 0 fonts, 1 dirs\n",
            "/usr/share/fonts/truetype: caching, new cache contents: 0 fonts, 3 dirs\n",
            "/usr/share/fonts/truetype/humor-sans: caching, new cache contents: 1 fonts, 0 dirs\n",
            "/usr/share/fonts/truetype/liberation: caching, new cache contents: 16 fonts, 0 dirs\n",
            "/usr/share/fonts/truetype/nanum: caching, new cache contents: 12 fonts, 0 dirs\n",
            "/usr/local/share/fonts: caching, new cache contents: 0 fonts, 0 dirs\n",
            "/root/.local/share/fonts: skipping, no such directory\n",
            "/root/.fonts: skipping, no such directory\n",
            "/usr/share/fonts/truetype: skipping, looped directory detected\n",
            "/usr/share/fonts/truetype/humor-sans: skipping, looped directory detected\n",
            "/usr/share/fonts/truetype/liberation: skipping, looped directory detected\n",
            "/usr/share/fonts/truetype/nanum: skipping, looped directory detected\n",
            "/var/cache/fontconfig: cleaning cache directory\n",
            "/root/.cache/fontconfig: not cleaning non-existent cache directory\n",
            "/root/.fontconfig: not cleaning non-existent cache directory\n",
            "fc-cache: succeeded\n"
          ]
        }
      ]
    },
    {
      "cell_type": "markdown",
      "source": [
        "# **데이터 불러오기 및 전처리**"
      ],
      "metadata": {
        "id": "o2JV2ApIR5hj"
      }
    },
    {
      "cell_type": "code",
      "source": [
        "from google.colab import drive\n",
        "import pandas as pd\n",
        "\n",
        "# 1. 구글 드라이브 마운트\n",
        "drive.mount('/content/drive')\n",
        "\n",
        "# 2. 데이터 불러오기\n",
        "base_path = \"/content/drive/MyDrive\"\n",
        "\n",
        "links = pd.read_csv(f\"{base_path}/links.csv\")\n",
        "movies = pd.read_csv(f\"{base_path}/movies.csv\")\n",
        "ratings = pd.read_csv(f\"{base_path}/ratings.csv\")\n",
        "tags = pd.read_csv(f\"{base_path}/tags.csv\")\n",
        "\n",
        "\n",
        "\n",
        "# 확인\n",
        "#print(links.shape, movies.shape, ratings.shape, tags.shape)\n",
        "#"
      ],
      "metadata": {
        "id": "eDQosfTd7uam",
        "colab": {
          "base_uri": "https://localhost:8080/"
        },
        "outputId": "cb198d46-635c-46fa-bd0c-1821b2929858"
      },
      "execution_count": null,
      "outputs": [
        {
          "output_type": "stream",
          "name": "stdout",
          "text": [
            "Drive already mounted at /content/drive; to attempt to forcibly remount, call drive.mount(\"/content/drive\", force_remount=True).\n"
          ]
        }
      ]
    },
    {
      "cell_type": "code",
      "source": [
        "import pandas as pd\n",
        "\n",
        "# ratings, tags의 timestamp를 datetime으로 변환\n",
        "ratings['timestamp'] = pd.to_datetime(ratings['timestamp'], unit='s')\n",
        "tags['timestamp'] = pd.to_datetime(tags['timestamp'], unit='s')\n",
        "\n",
        "# 2020년 1월 1일 이후 데이터만 추출\n",
        "cutoff_date = pd.Timestamp('2020-01-01')\n",
        "ratings = ratings[ratings['timestamp'] >= cutoff_date].copy()\n",
        "tags = tags[tags['timestamp'] >= cutoff_date].copy()\n",
        "\n",
        "# movies, links도 ratings 기준으로 필터링\n",
        "movie_ids = ratings['movieId'].unique()\n",
        "movies = movies[movies['movieId'].isin(movie_ids)].copy()\n",
        "links = links[links['movieId'].isin(movie_ids)].copy()\n",
        "\n",
        "\n",
        "\n",
        "# 확인\n",
        "print(\"ratings shape:\", ratings.shape)\n",
        "#print(\"tags shape:\", tags.shape)\n",
        "#print(\"movies shape:\", movies.shape)\n",
        "#print(\"links shape:\", links.shape)\n"
      ],
      "metadata": {
        "id": "ta7y8aja9x1Z",
        "colab": {
          "base_uri": "https://localhost:8080/"
        },
        "outputId": "7d83e4c2-86d5-48d7-ee5b-0fb00fdca1c1"
      },
      "execution_count": null,
      "outputs": [
        {
          "output_type": "stream",
          "name": "stdout",
          "text": [
            "ratings shape: (4635230, 4)\n"
          ]
        }
      ]
    },
    {
      "cell_type": "code",
      "source": [
        "import numpy as np\n",
        "# 영화 개봉연도 추출\n",
        "movies['release_year'] = movies['title'].str.extract(r'\\((\\d{4})\\)').astype(float)\n",
        "\n",
        "# 콘텐츠 연령 계산\n",
        "ratings = ratings.merge(movies[['movieId','release_year']], on='movieId', how='left')\n",
        "ratings['rating_year'] = ratings['timestamp'].dt.year\n",
        "ratings['content_age'] = ratings['rating_year'] - ratings['release_year']\n",
        "\n",
        "# 유저별 평균 콘텐츠 연령\n",
        "user_age_pref = ratings.groupby('userId')['content_age'].mean().reset_index()\n",
        "median_age = user_age_pref['content_age'].median()\n",
        "\n",
        "# 트렌드 vs 레트로 성향\n",
        "user_age_pref['age_pref'] = np.where(\n",
        "    user_age_pref['content_age'] >= median_age, \"retro\", \"trend\"\n",
        ")\n",
        "\n",
        "# 유저 성향 합치기\n",
        "ratings = ratings.merge(user_age_pref[['userId','age_pref']], on='userId', how='left')\n"
      ],
      "metadata": {
        "id": "Oux9OQdH_ZEW"
      },
      "execution_count": null,
      "outputs": []
    },
    {
      "cell_type": "markdown",
      "source": [
        "# **Heavy Rater 설정**"
      ],
      "metadata": {
        "id": "yu5sfOoXk2IA"
      }
    },
    {
      "cell_type": "code",
      "source": [
        "import numpy as np\n",
        "import pandas as pd\n",
        "\n",
        "# Heavy / Other 유저 분리\n",
        "user_stats = ratings.groupby(\"userId\").agg(\n",
        "    rating_count=(\"rating\", \"count\"),\n",
        "    avg_rating=(\"rating\", \"mean\")\n",
        ").reset_index()\n",
        "\n",
        "threshold = user_stats[\"rating_count\"].quantile(0.9)\n",
        "\n",
        "heavy_raters = set(user_stats.loc[user_stats[\"rating_count\"] >= threshold, \"userId\"])\n",
        "\n",
        "# Ratings 분리\n",
        "ratings[\"group\"] = np.where(ratings[\"userId\"].isin(heavy_raters), \"heavy\", \"other\")\n",
        "\n",
        "heavy_ratings = ratings[ratings[\"group\"]==\"heavy\"]\n",
        "other_ratings = ratings[ratings[\"group\"]==\"other\"]\n"
      ],
      "metadata": {
        "id": "xeG_4O2Oknse"
      },
      "execution_count": null,
      "outputs": []
    },
    {
      "cell_type": "code",
      "source": [
        "print(\"헤비레이터 수:\", len(heavy_raters))\n",
        "print(\"전체 유저 수:\", user_stats[\"userId\"].nunique())\n",
        "print(\"비율: {:.2f}%\".format(len(heavy_raters) / user_stats[\"userId\"].nunique() * 100))\n"
      ],
      "metadata": {
        "colab": {
          "base_uri": "https://localhost:8080/"
        },
        "id": "4_oaR1aWuEma",
        "outputId": "06dcd68c-1aa2-4f44-d54d-49e55b901552"
      },
      "execution_count": null,
      "outputs": [
        {
          "output_type": "stream",
          "name": "stdout",
          "text": [
            "헤비레이터 수: 2937\n",
            "전체 유저 수: 29346\n",
            "비율: 10.01%\n"
          ]
        }
      ]
    },
    {
      "cell_type": "markdown",
      "source": [
        "# **Heavy** vs **Others t_test, 기초 시각화**"
      ],
      "metadata": {
        "id": "1o0w2TXdVji4"
      }
    },
    {
      "cell_type": "code",
      "source": [
        "from scipy.stats import ttest_ind, ttest_rel\n",
        "\n",
        "t_stat, p_val = ttest_ind(heavy_ratings[\"rating\"], other_ratings[\"rating\"], equal_var=False)\n",
        "\n",
        "print(\"[독립 t-검정]\")\n",
        "print(\"t-statistic:\", t_stat)\n",
        "print(\"p-value:\", p_val)\n",
        "if p_val < 0.05:\n",
        "    print(\"=> 두 그룹 간 차이가 통계적으로 유의함 (p < 0.05)\")\n",
        "else:\n",
        "    print(\"=> 두 그룹 간 차이가 통계적으로 유의하지 않음 (p >= 0.05)\")\n",
        "\n",
        "# =====================================\n",
        "# 3) 대응표본 t-검정 (같은 영화 기준 평균 비교)\n",
        "# =====================================\n",
        "movie_avg_stats = (\n",
        "    ratings.groupby([\"movieId\",\"group\"])[\"rating\"].mean()\n",
        "    .unstack()\n",
        "    .dropna()\n",
        ")\n",
        "\n",
        "t_stat, p_val = ttest_rel(movie_avg_stats[\"heavy\"], movie_avg_stats[\"other\"])\n",
        "\n",
        "print(\"\\n[대응 t-검정]\")\n",
        "print(\"t-statistic:\", t_stat)\n",
        "print(\"p-value:\", p_val)\n",
        "if p_val < 0.05:\n",
        "    print(\"=> 영화별 Heavy vs Other 평균 차이가 통계적으로 유의함 (p < 0.05)\")\n",
        "else:\n",
        "    print(\"=> 영화별 Heavy vs Other 평균 차이가 통계적으로 유의하지 않음 (p >= 0.05)\")"
      ],
      "metadata": {
        "id": "tEMccBGYb4Z3",
        "colab": {
          "base_uri": "https://localhost:8080/"
        },
        "outputId": "8812e70c-fffb-4cda-dcc2-f0391e5e4e25"
      },
      "execution_count": null,
      "outputs": [
        {
          "output_type": "stream",
          "name": "stdout",
          "text": [
            "[독립 t-검정]\n",
            "t-statistic: -493.8215057743266\n",
            "p-value: 0.0\n",
            "=> 두 그룹 간 차이가 통계적으로 유의함 (p < 0.05)\n",
            "\n",
            "[대응 t-검정]\n",
            "t-statistic: -79.74685156438002\n",
            "p-value: 0.0\n",
            "=> 영화별 Heavy vs Other 평균 차이가 통계적으로 유의함 (p < 0.05)\n"
          ]
        }
      ]
    },
    {
      "cell_type": "code",
      "source": [
        "import matplotlib.pyplot as plt\n",
        "\n",
        "\n",
        "\n",
        "# 평점 개수 기준 그룹 설정\n",
        "percentiles = [50, 80, 90, 95]  # 상위 % 기준\n",
        "thresholds = np.percentile(user_stats[\"rating_count\"], percentiles)\n",
        "\n",
        "def assign_group(r):\n",
        "    # 높은 퍼센트 순서로 체크\n",
        "    for p_val, p in zip(thresholds[::-1], percentiles[::-1]):\n",
        "        if r >= p_val:\n",
        "            return f\"top_{p}%\"\n",
        "    return f\"below_top_{percentiles[0]}%\"\n",
        "\n",
        "user_stats[\"rating_group\"] = user_stats[\"rating_count\"].apply(assign_group)\n",
        "\n",
        "\n",
        "\n",
        "# 그룹별 평균과 표준편차 계산\n",
        "\n",
        "group_stats = user_stats.groupby(\"rating_group\")[\"avg_rating\"].agg(['mean','std']).reindex(\n",
        "    [\"below_top_50%\", \"top_50%\", \"top_80%\", \"top_90%\", \"top_95%\"]\n",
        ").reset_index()\n",
        "\n",
        "\n",
        "# 막대그래프 그리기\n",
        "plt.figure(figsize=(10,6))\n",
        "plt.bar(group_stats[\"rating_group\"], group_stats[\"mean\"], yerr=group_stats[\"std\"],\n",
        "        capsize=5, color='mediumslateblue', alpha=0.7)\n",
        "plt.title(\"평점 개수 그룹별 평균 평점\")\n",
        "plt.xlabel(\"평점 개수 그룹\")\n",
        "plt.ylabel(\"평균 평점\")\n",
        "plt.ylim(3, 5)  # 평점 범위\n",
        "plt.show()\n",
        "import matplotlib.pyplot as plt\n",
        "\n",
        "# 막대그래프 그리기\n",
        "plt.figure(figsize=(10,6))\n",
        "plt.bar(group_stats[\"rating_group\"], group_stats[\"mean\"],\n",
        "        yerr=group_stats[\"std\"], capsize=5,\n",
        "        color='mediumslateblue', alpha=0.7)\n",
        "\n",
        "plt.title(\"평점 개수 그룹별 평균 평점\")\n",
        "plt.xlabel(\"평점 개수 그룹\")\n",
        "plt.ylabel(\"평균 평점\")\n",
        "plt.ylim(3, 5)  # 평점 범위\n",
        "\n",
        "# 원하는 한글 라벨 지정\n",
        "new_labels = [\"하위 50%\", \"상위 50%\", \"상위 20%\", \"상위 10%\", \"상위 5%\"]\n",
        "plt.xticks(ticks=range(len(new_labels)), labels=new_labels)\n",
        "\n",
        "plt.show()\n",
        "\n"
      ],
      "metadata": {
        "colab": {
          "base_uri": "https://localhost:8080/"
        },
        "id": "SD1jIc6nVyXR",
        "outputId": "7bf2362e-4dd5-405e-8ba7-c4b485004158"
      },
      "execution_count": null,
      "outputs": [
        {
          "output_type": "display_data",
          "data": {
            "text/plain": [
              "<Figure size 1000x600 with 1 Axes>"
            ],
            "image/png": "[encoded data removed]"
          },
          "metadata": {}
        },
        {
          "output_type": "display_data",
          "data": {
            "text/plain": [
              "<Figure size 1000x600 with 1 Axes>"
            ],
            "image/png": "[encoded data removed]"
          },
          "metadata": {}
        }
      ]
    },
    {
      "cell_type": "markdown",
      "source": [
        "# **영화별 Heavy, Other 평점 집계, Top 10 확인**"
      ],
      "metadata": {
        "id": "SuymHRkvfp-P"
      }
    },
    {
      "cell_type": "code",
      "source": [
        "# 영화별 heavy / other 평균 & 개수 집계\n",
        "rating_stats = (\n",
        "    ratings.groupby([\"movieId\", \"group\"])\n",
        "    .agg(avg_rating=(\"rating\", \"mean\"), count=(\"rating\", \"size\"))\n",
        "    .reset_index()\n",
        ")\n",
        "\n",
        "# wide 형태 변환\n",
        "rating_stats = rating_stats.pivot(index=\"movieId\", columns=\"group\", values=[\"avg_rating\", \"count\"])\n",
        "rating_stats.columns = [\"heavy_avg\", \"other_avg\", \"heavy_count\", \"other_count\"]\n",
        "rating_stats = rating_stats.reset_index()\n",
        "\n",
        "# total_count 계산\n",
        "rating_stats[\"total_count\"] = rating_stats[\"heavy_count\"] + rating_stats[\"other_count\"]\n"
      ],
      "metadata": {
        "id": "v6p2Y4nFZ6d0"
      },
      "execution_count": null,
      "outputs": []
    },
    {
      "cell_type": "code",
      "source": [
        "import pandas as pd\n",
        "\n",
        "pd.set_option(\"display.max_columns\", None)  # 모든 컬럼 표시\n",
        "pd.set_option(\"display.width\", 2000)        # 한 줄에 표시할 폭 늘리기\n",
        "pd.set_option(\"display.max_colwidth\", None) # 문자열 잘림 방지\n"
      ],
      "metadata": {
        "id": "QWoQ6orTaS9l"
      },
      "execution_count": null,
      "outputs": []
    },
    {
      "cell_type": "code",
      "source": [
        "# 평점 개수 Top10 영화 추출 + title merge\n",
        "top10_movies = rating_stats.nlargest(10, \"total_count\").merge(\n",
        "    movies[[\"movieId\", \"title\"]], on=\"movieId\", how=\"left\"\n",
        ")\n",
        "\n",
        "result = top10_movies[[\"title\", \"heavy_avg\", \"other_avg\", \"heavy_count\", \"other_count\", \"total_count\"]]\n",
        "\n",
        "print(result)"
      ],
      "metadata": {
        "colab": {
          "base_uri": "https://localhost:8080/"
        },
        "id": "Z-QqT3JgZHAw",
        "outputId": "11e006c8-9b2a-49be-f1b6-e982f658dfc5"
      },
      "execution_count": null,
      "outputs": [
        {
          "output_type": "stream",
          "name": "stdout",
          "text": [
            "                                                       title  heavy_avg  other_avg  heavy_count  other_count  total_count\n",
            "0                                           Inception (2010)   4.018739   4.188937       2268.0      12835.0      15103.0\n",
            "1                                         Matrix, The (1999)   4.163539   4.169744       2238.0      11535.0      13773.0\n",
            "2                                    Dark Knight, The (2008)   4.129169   4.206506       2249.0      11312.0      13561.0\n",
            "3                           Shawshank Redemption, The (1994)   4.248196   4.361357       2079.0      11187.0      13266.0\n",
            "4                                          Fight Club (1999)   4.167288   4.235843       2146.0      10560.0      12706.0\n",
            "5                                        Interstellar (2014)   3.981429   4.243145       2100.0      10175.0      12275.0\n",
            "6  Lord of the Rings: The Fellowship of the Ring, The (2001)   4.070363   4.093695       2146.0       9659.0      11805.0\n",
            "7      Lord of the Rings: The Return of the King, The (2003)   4.072762   4.121828       2089.0       9378.0      11467.0\n",
            "8              Lord of the Rings: The Two Towers, The (2002)   4.034069   4.099294       2084.0       9069.0      11153.0\n",
            "9                                            Parasite (2019)   4.207499   4.338957       1947.0       8951.0      10898.0\n"
          ]
        }
      ]
    },
    {
      "cell_type": "markdown",
      "source": [
        "# **Real, Heavy, Weighted Top3**"
      ],
      "metadata": {
        "id": "9I154yLzfFqZ"
      }
    },
    {
      "cell_type": "code",
      "source": [
        "# 실제 전체 평균 (real_avg)\n",
        "result[\"real_avg\"] = (\n",
        "    result[\"heavy_avg\"] * result[\"heavy_count\"] +\n",
        "    result[\"other_avg\"] * result[\"other_count\"]\n",
        ") / result[\"total_count\"]\n",
        "\n",
        "# 가중 평균 (Heavy 영향 확대)\n",
        "result[\"weighted_avg\"] = (\n",
        "    result[\"heavy_avg\"] * result[\"other_count\"] +\n",
        "    result[\"other_avg\"] * result[\"heavy_count\"]\n",
        ") / result[\"total_count\"]\n",
        "\n",
        "# 가중평균과 실제평균 차이\n",
        "result[\"weighted_diff\"] = result[\"weighted_avg\"] - result[\"real_avg\"]\n",
        "\n",
        "# diff (Heavy - Other)\n",
        "result[\"diff\"] = result[\"heavy_avg\"] - result[\"other_avg\"]\n",
        "\n",
        "# 필요한 컬럼 정리\n",
        "display(result[[\n",
        "    \"title\", \"heavy_avg\", \"other_avg\", \"diff\",\n",
        "    \"real_avg\", \"weighted_avg\", \"weighted_diff\"\n",
        "]])\n"
      ],
      "metadata": {
        "colab": {
          "base_uri": "https://localhost:8080/",
          "height": 363
        },
        "id": "ctlrT4iEbB0F",
        "outputId": "f326a5ce-6315-4158-8c5a-7a2cce5cad04"
      },
      "execution_count": null,
      "outputs": [
        {
          "output_type": "display_data",
          "data": {
            "text/plain": [
              "                                                       title  heavy_avg  other_avg      diff  real_avg  weighted_avg  weighted_diff\n",
              "0                                           Inception (2010)   4.018739   4.188937 -0.170198  4.163378      4.044297      -0.119081\n",
              "1                                         Matrix, The (1999)   4.163539   4.169744 -0.006205  4.168736      4.164547      -0.004189\n",
              "2                                    Dark Knight, The (2008)   4.129169   4.206506 -0.077338  4.193680      4.141994      -0.051686\n",
              "3                           Shawshank Redemption, The (1994)   4.248196   4.361357 -0.113161  4.343623      4.265930      -0.077692\n",
              "4                                          Fight Club (1999)   4.167288   4.235843 -0.068555  4.224264      4.178867      -0.045397\n",
              "5                                        Interstellar (2014)   3.981429   4.243145 -0.261716  4.198371      4.026203      -0.172168\n",
              "6  Lord of the Rings: The Fellowship of the Ring, The (2001)   4.070363   4.093695 -0.023332  4.089454      4.074605      -0.014849\n",
              "7      Lord of the Rings: The Return of the King, The (2003)   4.072762   4.121828 -0.049066  4.112889      4.081701      -0.031189\n",
              "8              Lord of the Rings: The Two Towers, The (2002)   4.034069   4.099294 -0.065225  4.087107      4.046257      -0.040850\n",
              "9                                            Parasite (2019)   4.207499   4.338957 -0.131458  4.315471      4.230985      -0.084486"
            ],
            "text/html": [
              "\n",
              "  <div id=\"df-db4e8e8d-4af4-47b2-8e40-5d7f5e61bb42\" class=\"colab-df-container\">\n",
              "    <div>\n",
              "<style scoped>\n",
              "    .dataframe tbody tr th:only-of-type {\n",
              "        vertical-align: middle;\n",
              "    }\n",
              "\n",
              "    .dataframe tbody tr th {\n",
              "        vertical-align: top;\n",
              "    }\n",
              "\n",
              "    .dataframe thead th {\n",
              "        text-align: right;\n",
              "    }\n",
              "</style>\n",
              "<table border=\"1\" class=\"dataframe\">\n",
              "  <thead>\n",
              "    <tr style=\"text-align: right;\">\n",
              "      <th></th>\n",
              "      <th>title</th>\n",
              "      <th>heavy_avg</th>\n",
              "      <th>other_avg</th>\n",
              "      <th>diff</th>\n",
              "      <th>real_avg</th>\n",
              "      <th>weighted_avg</th>\n",
              "      <th>weighted_diff</th>\n",
              "    </tr>\n",
              "  </thead>\n",
              "  <tbody>\n",
              "    <tr>\n",
              "      <th>0</th>\n",
              "      <td>Inception (2010)</td>\n",
              "      <td>4.018739</td>\n",
              "      <td>4.188937</td>\n",
              "      <td>-0.170198</td>\n",
              "      <td>4.163378</td>\n",
              "      <td>4.044297</td>\n",
              "      <td>-0.119081</td>\n",
              "    </tr>\n",
              "    <tr>\n",
              "      <th>1</th>\n",
              "      <td>Matrix, The (1999)</td>\n",
              "      <td>4.163539</td>\n",
              "      <td>4.169744</td>\n",
              "      <td>-0.006205</td>\n",
              "      <td>4.168736</td>\n",
              "      <td>4.164547</td>\n",
              "      <td>-0.004189</td>\n",
              "    </tr>\n",
              "    <tr>\n",
              "      <th>2</th>\n",
              "      <td>Dark Knight, The (2008)</td>\n",
              "      <td>4.129169</td>\n",
              "      <td>4.206506</td>\n",
              "      <td>-0.077338</td>\n",
              "      <td>4.193680</td>\n",
              "      <td>4.141994</td>\n",
              "      <td>-0.051686</td>\n",
              "    </tr>\n",
              "    <tr>\n",
              "      <th>3</th>\n",
              "      <td>Shawshank Redemption, The (1994)</td>\n",
              "      <td>4.248196</td>\n",
              "      <td>4.361357</td>\n",
              "      <td>-0.113161</td>\n",
              "      <td>4.343623</td>\n",
              "      <td>4.265930</td>\n",
              "      <td>-0.077692</td>\n",
              "    </tr>\n",
              "    <tr>\n",
              "      <th>4</th>\n",
              "      <td>Fight Club (1999)</td>\n",
              "      <td>4.167288</td>\n",
              "      <td>4.235843</td>\n",
              "      <td>-0.068555</td>\n",
              "      <td>4.224264</td>\n",
              "      <td>4.178867</td>\n",
              "      <td>-0.045397</td>\n",
              "    </tr>\n",
              "    <tr>\n",
              "      <th>5</th>\n",
              "      <td>Interstellar (2014)</td>\n",
              "      <td>3.981429</td>\n",
              "      <td>4.243145</td>\n",
              "      <td>-0.261716</td>\n",
              "      <td>4.198371</td>\n",
              "      <td>4.026203</td>\n",
              "      <td>-0.172168</td>\n",
              "    </tr>\n",
              "    <tr>\n",
              "      <th>6</th>\n",
              "      <td>Lord of the Rings: The Fellowship of the Ring, The (2001)</td>\n",
              "      <td>4.070363</td>\n",
              "      <td>4.093695</td>\n",
              "      <td>-0.023332</td>\n",
              "      <td>4.089454</td>\n",
              "      <td>4.074605</td>\n",
              "      <td>-0.014849</td>\n",
              "    </tr>\n",
              "    <tr>\n",
              "      <th>7</th>\n",
              "      <td>Lord of the Rings: The Return of the King, The (2003)</td>\n",
              "      <td>4.072762</td>\n",
              "      <td>4.121828</td>\n",
              "      <td>-0.049066</td>\n",
              "      <td>4.112889</td>\n",
              "      <td>4.081701</td>\n",
              "      <td>-0.031189</td>\n",
              "    </tr>\n",
              "    <tr>\n",
              "      <th>8</th>\n",
              "      <td>Lord of the Rings: The Two Towers, The (2002)</td>\n",
              "      <td>4.034069</td>\n",
              "      <td>4.099294</td>\n",
              "      <td>-0.065225</td>\n",
              "      <td>4.087107</td>\n",
              "      <td>4.046257</td>\n",
              "      <td>-0.040850</td>\n",
              "    </tr>\n",
              "    <tr>\n",
              "      <th>9</th>\n",
              "      <td>Parasite (2019)</td>\n",
              "      <td>4.207499</td>\n",
              "      <td>4.338957</td>\n",
              "      <td>-0.131458</td>\n",
              "      <td>4.315471</td>\n",
              "      <td>4.230985</td>\n",
              "      <td>-0.084486</td>\n",
              "    </tr>\n",
              "  </tbody>\n",
              "</table>\n",
              "</div>\n",
              "    <div class=\"colab-df-buttons\">\n",
              "\n",
              "  <div class=\"colab-df-container\">\n",
              "    <button class=\"colab-df-convert\" onclick=\"convertToInteractive('df-db4e8e8d-4af4-47b2-8e40-5d7f5e61bb42')\"\n",
              "            title=\"Convert this dataframe to an interactive table.\"\n",
              "            style=\"display:none;\">\n",
              "\n",
              "  <svg xmlns=\"http://www.w3.org/2000/svg\" height=\"24px\" viewBox=\"0 -960 960 960\">\n",
              "    <path d=\"M120-120v-720h720v720H120Zm60-500h600v-160H180v160Zm220 220h160v-160H400v160Zm0 220h160v-160H400v160ZM180-400h160v-160H180v160Zm440 0h160v-160H620v160ZM180-180h160v-160H180v160Zm440 0h160v-160H620v160Z\"/>\n",
              "  </svg>\n",
              "    </button>\n",
              "\n",
              "  <style>\n",
              "    .colab-df-container {\n",
              "      display:flex;\n",
              "      gap: 12px;\n",
              "    }\n",
              "\n",
              "    .colab-df-convert {\n",
              "      background-color: #E8F0FE;\n",
              "      border: none;\n",
              "      border-radius: 50%;\n",
              "      cursor: pointer;\n",
              "      display: none;\n",
              "      fill: #1967D2;\n",
              "      height: 32px;\n",
              "      padding: 0 0 0 0;\n",
              "      width: 32px;\n",
              "    }\n",
              "\n",
              "    .colab-df-convert:hover {\n",
              "      background-color: #E2EBFA;\n",
              "      box-shadow: 0px 1px 2px rgba(60, 64, 67, 0.3), 0px 1px 3px 1px rgba(60, 64, 67, 0.15);\n",
              "      fill: #174EA6;\n",
              "    }\n",
              "\n",
              "    .colab-df-buttons div {\n",
              "      margin-bottom: 4px;\n",
              "    }\n",
              "\n",
              "    [theme=dark] .colab-df-convert {\n",
              "      background-color: #3B4455;\n",
              "      fill: #D2E3FC;\n",
              "    }\n",
              "\n",
              "    [theme=dark] .colab-df-convert:hover {\n",
              "      background-color: #434B5C;\n",
              "      box-shadow: 0px 1px 3px 1px rgba(0, 0, 0, 0.15);\n",
              "      filter: drop-shadow(0px 1px 2px rgba(0, 0, 0, 0.3));\n",
              "      fill: #FFFFFF;\n",
              "    }\n",
              "  </style>\n",
              "\n",
              "    <script>\n",
              "      const buttonEl =\n",
              "        document.querySelector('#df-db4e8e8d-4af4-47b2-8e40-5d7f5e61bb42 button.colab-df-convert');\n",
              "      buttonEl.style.display =\n",
              "        google.colab.kernel.accessAllowed ? 'block' : 'none';\n",
              "\n",
              "      async function convertToInteractive(key) {\n",
              "        const element = document.querySelector('#df-db4e8e8d-4af4-47b2-8e40-5d7f5e61bb42');\n",
              "        const dataTable =\n",
              "          await google.colab.kernel.invokeFunction('convertToInteractive',\n",
              "                                                    [key], {});\n",
              "        if (!dataTable) return;\n",
              "\n",
              "        const docLinkHtml = 'Like what you see? Visit the ' +\n",
              "          '<a target=\"_blank\" href=https://colab.research.google.com/notebooks/data_table.ipynb>data table notebook</a>'\n",
              "          + ' to learn more about interactive tables.';\n",
              "        element.innerHTML = '';\n",
              "        dataTable['output_type'] = 'display_data';\n",
              "        await google.colab.output.renderOutput(dataTable, element);\n",
              "        const docLink = document.createElement('div');\n",
              "        docLink.innerHTML = docLinkHtml;\n",
              "        element.appendChild(docLink);\n",
              "      }\n",
              "    </script>\n",
              "  </div>\n",
              "\n",
              "\n",
              "    <div id=\"df-a5435755-21df-4cb6-a27a-52438fdc256e\">\n",
              "      <button class=\"colab-df-quickchart\" onclick=\"quickchart('df-a5435755-21df-4cb6-a27a-52438fdc256e')\"\n",
              "                title=\"Suggest charts\"\n",
              "                style=\"display:none;\">\n",
              "\n",
              "<svg xmlns=\"http://www.w3.org/2000/svg\" height=\"24px\"viewBox=\"0 0 24 24\"\n",
              "     width=\"24px\">\n",
              "    <g>\n",
              "        <path d=\"M19 3H5c-1.1 0-2 .9-2 2v14c0 1.1.9 2 2 2h14c1.1 0 2-.9 2-2V5c0-1.1-.9-2-2-2zM9 17H7v-7h2v7zm4 0h-2V7h2v10zm4 0h-2v-4h2v4z\"/>\n",
              "    </g>\n",
              "</svg>\n",
              "      </button>\n",
              "\n",
              "<style>\n",
              "  .colab-df-quickchart {\n",
              "      --bg-color: #E8F0FE;\n",
              "      --fill-color: #1967D2;\n",
              "      --hover-bg-color: #E2EBFA;\n",
              "      --hover-fill-color: #174EA6;\n",
              "      --disabled-fill-color: #AAA;\n",
              "      --disabled-bg-color: #DDD;\n",
              "  }\n",
              "\n",
              "  [theme=dark] .colab-df-quickchart {\n",
              "      --bg-color: #3B4455;\n",
              "      --fill-color: #D2E3FC;\n",
              "      --hover-bg-color: #434B5C;\n",
              "      --hover-fill-color: #FFFFFF;\n",
              "      --disabled-bg-color: #3B4455;\n",
              "      --disabled-fill-color: #666;\n",
              "  }\n",
              "\n",
              "  .colab-df-quickchart {\n",
              "    background-color: var(--bg-color);\n",
              "    border: none;\n",
              "    border-radius: 50%;\n",
              "    cursor: pointer;\n",
              "    display: none;\n",
              "    fill: var(--fill-color);\n",
              "    height: 32px;\n",
              "    padding: 0;\n",
              "    width: 32px;\n",
              "  }\n",
              "\n",
              "  .colab-df-quickchart:hover {\n",
              "    background-color: var(--hover-bg-color);\n",
              "    box-shadow: 0 1px 2px rgba(60, 64, 67, 0.3), 0 1px 3px 1px rgba(60, 64, 67, 0.15);\n",
              "    fill: var(--button-hover-fill-color);\n",
              "  }\n",
              "\n",
              "  .colab-df-quickchart-complete:disabled,\n",
              "  .colab-df-quickchart-complete:disabled:hover {\n",
              "    background-color: var(--disabled-bg-color);\n",
              "    fill: var(--disabled-fill-color);\n",
              "    box-shadow: none;\n",
              "  }\n",
              "\n",
              "  .colab-df-spinner {\n",
              "    border: 2px solid var(--fill-color);\n",
              "    border-color: transparent;\n",
              "    border-bottom-color: var(--fill-color);\n",
              "    animation:\n",
              "      spin 1s steps(1) infinite;\n",
              "  }\n",
              "\n",
              "  @keyframes spin {\n",
              "    0% {\n",
              "      border-color: transparent;\n",
              "      border-bottom-color: var(--fill-color);\n",
              "      border-left-color: var(--fill-color);\n",
              "    }\n",
              "    20% {\n",
              "      border-color: transparent;\n",
              "      border-left-color: var(--fill-color);\n",
              "      border-top-color: var(--fill-color);\n",
              "    }\n",
              "    30% {\n",
              "      border-color: transparent;\n",
              "      border-left-color: var(--fill-color);\n",
              "      border-top-color: var(--fill-color);\n",
              "      border-right-color: var(--fill-color);\n",
              "    }\n",
              "    40% {\n",
              "      border-color: transparent;\n",
              "      border-right-color: var(--fill-color);\n",
              "      border-top-color: var(--fill-color);\n",
              "    }\n",
              "    60% {\n",
              "      border-color: transparent;\n",
              "      border-right-color: var(--fill-color);\n",
              "    }\n",
              "    80% {\n",
              "      border-color: transparent;\n",
              "      border-right-color: var(--fill-color);\n",
              "      border-bottom-color: var(--fill-color);\n",
              "    }\n",
              "    90% {\n",
              "      border-color: transparent;\n",
              "      border-bottom-color: var(--fill-color);\n",
              "    }\n",
              "  }\n",
              "</style>\n",
              "\n",
              "      <script>\n",
              "        async function quickchart(key) {\n",
              "          const quickchartButtonEl =\n",
              "            document.querySelector('#' + key + ' button');\n",
              "          quickchartButtonEl.disabled = true;  // To prevent multiple clicks.\n",
              "          quickchartButtonEl.classList.add('colab-df-spinner');\n",
              "          try {\n",
              "            const charts = await google.colab.kernel.invokeFunction(\n",
              "                'suggestCharts', [key], {});\n",
              "          } catch (error) {\n",
              "            console.error('Error during call to suggestCharts:', error);\n",
              "          }\n",
              "          quickchartButtonEl.classList.remove('colab-df-spinner');\n",
              "          quickchartButtonEl.classList.add('colab-df-quickchart-complete');\n",
              "        }\n",
              "        (() => {\n",
              "          let quickchartButtonEl =\n",
              "            document.querySelector('#df-a5435755-21df-4cb6-a27a-52438fdc256e button');\n",
              "          quickchartButtonEl.style.display =\n",
              "            google.colab.kernel.accessAllowed ? 'block' : 'none';\n",
              "        })();\n",
              "      </script>\n",
              "    </div>\n",
              "\n",
              "    </div>\n",
              "  </div>\n"
            ],
            "application/vnd.google.colaboratory.intrinsic+json": {
              "type": "dataframe",
              "summary": "{\n  \"name\": \"]])\",\n  \"rows\": 10,\n  \"fields\": [\n    {\n      \"column\": \"title\",\n      \"properties\": {\n        \"dtype\": \"string\",\n        \"num_unique_values\": 10,\n        \"samples\": [\n          \"Lord of the Rings: The Two Towers, The (2002)\",\n          \"Matrix, The (1999)\",\n          \"Interstellar (2014)\"\n        ],\n        \"semantic_type\": \"\",\n        \"description\": \"\"\n      }\n    },\n    {\n      \"column\": \"heavy_avg\",\n      \"properties\": {\n        \"dtype\": \"number\",\n        \"std\": 0.08736738318792359,\n        \"min\": 3.9814285714285713,\n        \"max\": 4.2481962481962485,\n        \"num_unique_values\": 10,\n        \"samples\": [\n          4.0340690978886755,\n          4.163538873994638,\n          3.9814285714285713\n        ],\n        \"semantic_type\": \"\",\n        \"description\": \"\"\n      }\n    },\n    {\n      \"column\": \"other_avg\",\n      \"properties\": {\n        \"dtype\": \"number\",\n        \"std\": 0.09235974850811489,\n        \"min\": 4.093694999482348,\n        \"max\": 4.3613569321533925,\n        \"num_unique_values\": 10,\n        \"samples\": [\n          4.09929429926122,\n          4.169744256610317,\n          4.243144963144963\n        ],\n        \"semantic_type\": \"\",\n        \"description\": \"\"\n      }\n    },\n    {\n      \"column\": \"diff\",\n      \"properties\": {\n        \"dtype\": \"number\",\n        \"std\": 0.07609223317992692,\n        \"min\": -0.2617163917163916,\n        \"max\": -0.006205382615678268,\n        \"num_unique_values\": 10,\n        \"samples\": [\n          -0.06522520137254428,\n          -0.006205382615678268,\n          -0.2617163917163916\n        ],\n        \"semantic_type\": \"\",\n        \"description\": \"\"\n      }\n    },\n    {\n      \"column\": \"real_avg\",\n      \"properties\": {\n        \"dtype\": \"number\",\n        \"std\": 0.08718000805455187,\n        \"min\": 4.0871066080875105,\n        \"max\": 4.343622795115333,\n        \"num_unique_values\": 10,\n        \"samples\": [\n          4.0871066080875105,\n          4.1687359326217965,\n          4.198370672097759\n        ],\n        \"semantic_type\": \"\",\n        \"description\": \"\"\n      }\n    },\n    {\n      \"column\": \"weighted_avg\",\n      \"properties\": {\n        \"dtype\": \"number\",\n        \"std\": 0.08348945261071815,\n        \"min\": 4.026202862475774,\n        \"max\": 4.2659303852343085,\n        \"num_unique_values\": 10,\n        \"samples\": [\n          4.046256789062385,\n          4.1645471979831585,\n          4.026202862475774\n        ],\n        \"semantic_type\": \"\",\n        \"description\": \"\"\n      }\n    },\n    {\n      \"column\": \"weighted_diff\",\n      \"properties\": {\n        \"dtype\": \"number\",\n        \"std\": 0.051038685077018316,\n        \"min\": -0.1721678096219854,\n        \"max\": -0.004188734638638003,\n        \"num_unique_values\": 10,\n        \"samples\": [\n          -0.04084981902512563,\n          -0.004188734638638003,\n          -0.1721678096219854\n        ],\n        \"semantic_type\": \"\",\n        \"description\": \"\"\n      }\n    }\n  ]\n}"
            }
          },
          "metadata": {}
        }
      ]
    },
    {
      "cell_type": "code",
      "source": [
        "# 평점 개수 Top3 영화 추출 + title merge\n",
        "top3_movies = rating_stats.nlargest(3, \"total_count\").merge(\n",
        "    movies[[\"movieId\", \"title\"]], on=\"movieId\", how=\"left\"\n",
        ")\n",
        "\n",
        "result_1 = top3_movies[[\"title\", \"heavy_avg\", \"other_avg\", \"heavy_count\", \"other_count\", \"total_count\"]]\n",
        "\n",
        "result_1[\"real_avg\"] = (\n",
        "    result_1[\"heavy_avg\"] * result_1[\"heavy_count\"] +\n",
        "    result_1[\"other_avg\"] * result_1[\"other_count\"]\n",
        ") / result_1[\"total_count\"]\n",
        "\n",
        "print(result_1)"
      ],
      "metadata": {
        "id": "JKyhy1KSl4g0",
        "colab": {
          "base_uri": "https://localhost:8080/"
        },
        "outputId": "8929bede-34cd-4e19-8938-93e2c1badde0"
      },
      "execution_count": null,
      "outputs": [
        {
          "output_type": "stream",
          "name": "stdout",
          "text": [
            "                     title  heavy_avg  other_avg  heavy_count  other_count  total_count  real_avg\n",
            "0         Inception (2010)   4.018739   4.188937       2268.0      12835.0      15103.0  4.163378\n",
            "1       Matrix, The (1999)   4.163539   4.169744       2238.0      11535.0      13773.0  4.168736\n",
            "2  Dark Knight, The (2008)   4.129169   4.206506       2249.0      11312.0      13561.0  4.193680\n"
          ]
        }
      ]
    },
    {
      "cell_type": "code",
      "source": [
        "# 가중 평균 (Heavy 영향 확대)\n",
        "result_1[\"weighted_avg\"] = (\n",
        "    result_1[\"heavy_avg\"] * result_1[\"heavy_count\"] +\n",
        "    result_1[\"other_avg\"] * result_1[\"other_count\"]\n",
        ") / result_1[\"total_count\"]"
      ],
      "metadata": {
        "id": "5MU8AKYypgaE"
      },
      "execution_count": null,
      "outputs": []
    },
    {
      "cell_type": "code",
      "source": [
        "import matplotlib.pyplot as plt\n",
        "import numpy as np\n",
        "\n",
        "plt.figure(figsize=(6,4))\n",
        "x = np.arange(len(result_1))\n",
        "w = 0.24\n",
        "\n",
        "# Real·Heavy: 붙임\n",
        "plt.bar(x - w/2, result_1[\"real_avg\"],  w, label=\"Real Avg\",\n",
        "        color=\"lightgray\", edgecolor=\"black\", alpha=1)\n",
        "plt.bar(x + w/2, result_1[\"heavy_avg\"], w, label=\"Heavy Avg\",\n",
        "        color=\"lightgray\", edgecolor=\"black\", alpha=1)\n",
        "\n",
        "# Opt: 얇게 + 진한 테두리 + 살짝 투명\n",
        "plt.bar(x + w*2.0, result_1[\"weighted_avg\"], w*0.6,\n",
        "        label=\"Weighted Avg\", color=\"tomato\", edgecolor=\"tomato\", linewidth=1.6, alpha=0.6)\n",
        "\n",
        "# 값 라벨\n",
        "for i in x:\n",
        "    plt.text(i - w/2, result_1[\"real_avg\"].iloc[i] + 0.02, f'{result_1[\"real_avg\"].iloc[i]:.2f}',\n",
        "             ha='center', va='bottom', fontsize=9)\n",
        "    plt.text(i + w/2, result_1[\"heavy_avg\"].iloc[i] + 0.02, f'{result_1[\"heavy_avg\"].iloc[i]:.2f}',\n",
        "             ha='center', va='bottom', fontsize=9)\n",
        "    plt.text(i + w*2.0, result_1[\"weighted_avg\"].iloc[i] + 0.02, f'{result_1[\"weighted_avg\"].iloc[i]:.2f}',\n",
        "             ha='center', va='bottom', fontsize=9)\n",
        "\n",
        "plt.xticks(x + w*0.25, [f\"#{i+1}\" for i in range(len(result_1))])\n",
        "plt.ylabel(\"평점\")\n",
        "plt.title(\"평점 개수 Top 3 영화별 Real & Heavy vs weighted\")\n",
        "plt.grid(axis=\"y\", linestyle=\"--\", alpha=0.6)\n",
        "plt.ylim(3.5, 4.5)\n",
        "plt.legend()\n",
        "plt.tight_layout()\n",
        "plt.show()\n"
      ],
      "metadata": {
        "colab": {
          "base_uri": "https://localhost:8080/"
        },
        "id": "BBaCWxZTpoWs",
        "outputId": "8bfe6c1e-4a1d-4334-8af4-d9fba87fc1cc"
      },
      "execution_count": null,
      "outputs": [
        {
          "output_type": "display_data",
          "data": {
            "text/plain": [
              "<Figure size 600x400 with 1 Axes>"
            ],
            "image/png": "[encoded data removed]"
          },
          "metadata": {}
        }
      ]
    },
    {
      "cell_type": "code",
      "source": [
        "\n",
        "\n"
      ],
      "metadata": {
        "id": "YWNAXvozRWOG"
      },
      "execution_count": null,
      "outputs": []
    },
    {
      "cell_type": "code",
      "source": [],
      "metadata": {
        "id": "T7nXs60WoNyd"
      },
      "execution_count": null,
      "outputs": []
    }
  ]
}