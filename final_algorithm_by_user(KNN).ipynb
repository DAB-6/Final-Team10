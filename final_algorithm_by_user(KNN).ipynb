{
  "nbformat": 4,
  "nbformat_minor": 0,
  "metadata": {
    "colab": {
      "provenance": [],
      "collapsed_sections": [
        "XgDESMHkk8BA"
      ],
      "machine_shape": "hm",
      "mount_file_id": "1uriNb0kmhDnaCczrT5RtcyiWGSqYm8QR",
      "authorship_tag": "ABX9TyNbnTmFrBPGIEKOdpJfjtF/",
      "include_colab_link": true
    },
    "kernelspec": {
      "name": "python3",
      "display_name": "Python 3"
    },
    "language_info": {
      "name": "python"
    }
  },
  "cells": [
    {
      "cell_type": "markdown",
      "metadata": {
        "id": "view-in-github",
        "colab_type": "text"
      },
      "source": [
        "<a href=\"https://colab.research.google.com/github/LeeMooHeon/Final-Team10/blob/main/final_algorithm_by_user(KNN).ipynb\" target=\"_parent\"><img src=\"https://colab.research.google.com/assets/colab-badge.svg\" alt=\"Open In Colab\"/></a>"
      ]
    },
    {
      "cell_type": "code",
      "execution_count": null,
      "metadata": {
        "id": "vcFQ8Cr18dOZ"
      },
      "outputs": [],
      "source": [
        "\n",
        "\n",
        "import pandas as pd\n",
        "import numpy as np\n",
        "import matplotlib.pyplot as plt"
      ]
    },
    {
      "cell_type": "markdown",
      "source": [
        "# **한글**"
      ],
      "metadata": {
        "id": "RwgBsZntR13-"
      }
    },
    {
      "cell_type": "code",
      "source": [
        "!sudo apt-get install -y fonts-nanum\n",
        "!sudo fc-cache -fv\n",
        "!rm ~/.cache/matplotlib -rf\n",
        "\n",
        "\n",
        "plt.rc('font', family='NanumGothic')\n",
        "plt.rcParams['axes.unicode_minus'] =False"
      ],
      "metadata": {
        "id": "WK7w7ENPKn1l",
        "colab": {
          "base_uri": "https://localhost:8080/"
        },
        "outputId": "afd595f7-ac89-4ef2-c8e6-97a0d86064c9"
      },
      "execution_count": null,
      "outputs": [
        {
          "output_type": "stream",
          "name": "stdout",
          "text": [
            "Reading package lists... Done\n",
            "Building dependency tree... Done\n",
            "Reading state information... Done\n",
            "fonts-nanum is already the newest version (20200506-1).\n",
            "0 upgraded, 0 newly installed, 0 to remove and 35 not upgraded.\n",
            "/usr/share/fonts: caching, new cache contents: 0 fonts, 1 dirs\n",
            "/usr/share/fonts/truetype: caching, new cache contents: 0 fonts, 3 dirs\n",
            "/usr/share/fonts/truetype/humor-sans: caching, new cache contents: 1 fonts, 0 dirs\n",
            "/usr/share/fonts/truetype/liberation: caching, new cache contents: 16 fonts, 0 dirs\n",
            "/usr/share/fonts/truetype/nanum: caching, new cache contents: 12 fonts, 0 dirs\n",
            "/usr/local/share/fonts: caching, new cache contents: 0 fonts, 0 dirs\n",
            "/root/.local/share/fonts: skipping, no such directory\n",
            "/root/.fonts: skipping, no such directory\n",
            "/usr/share/fonts/truetype: skipping, looped directory detected\n",
            "/usr/share/fonts/truetype/humor-sans: skipping, looped directory detected\n",
            "/usr/share/fonts/truetype/liberation: skipping, looped directory detected\n",
            "/usr/share/fonts/truetype/nanum: skipping, looped directory detected\n",
            "/var/cache/fontconfig: cleaning cache directory\n",
            "/root/.cache/fontconfig: not cleaning non-existent cache directory\n",
            "/root/.fontconfig: not cleaning non-existent cache directory\n",
            "fc-cache: succeeded\n"
          ]
        }
      ]
    },
    {
      "cell_type": "markdown",
      "source": [
        "# **데이터 불러오기 및 전처리**"
      ],
      "metadata": {
        "id": "o2JV2ApIR5hj"
      }
    },
    {
      "cell_type": "code",
      "source": [
        "from google.colab import drive\n",
        "\n",
        "# 1. 구글 드라이브 마운트\n",
        "drive.mount('/content/drive')\n",
        "\n",
        "# 2. 데이터 불러오기\n",
        "base_path = \"/content/drive/MyDrive\"\n",
        "\n",
        "links = pd.read_csv(f\"{base_path}/links.csv\")\n",
        "movies = pd.read_csv(f\"{base_path}/movies.csv\")\n",
        "ratings = pd.read_csv(f\"{base_path}/ratings.csv\")\n",
        "tags = pd.read_csv(f\"{base_path}/tags.csv\")\n",
        "\n",
        "\n",
        "\n",
        "# 확인\n",
        "#print(links.shape, movies.shape, ratings.shape, tags.shape)\n",
        "#"
      ],
      "metadata": {
        "id": "eDQosfTd7uam",
        "colab": {
          "base_uri": "https://localhost:8080/"
        },
        "outputId": "dab0c475-cc3d-4fab-b99d-392610f28347"
      },
      "execution_count": null,
      "outputs": [
        {
          "output_type": "stream",
          "name": "stdout",
          "text": [
            "Drive already mounted at /content/drive; to attempt to forcibly remount, call drive.mount(\"/content/drive\", force_remount=True).\n"
          ]
        }
      ]
    },
    {
      "cell_type": "code",
      "source": [
        "\n",
        "# ratings, tags의 timestamp를 datetime으로 변환\n",
        "ratings['timestamp'] = pd.to_datetime(ratings['timestamp'], unit='s')\n",
        "tags['timestamp'] = pd.to_datetime(tags['timestamp'], unit='s')\n",
        "\n",
        "# 2020년 1월 1일 이후 데이터만 추출\n",
        "cutoff_date = pd.Timestamp('2020-01-01')\n",
        "ratings = ratings[ratings['timestamp'] >= cutoff_date].copy()\n",
        "tags = tags[tags['timestamp'] >= cutoff_date].copy()\n",
        "\n",
        "# movies, links도 ratings 기준으로 필터링\n",
        "movie_ids = ratings['movieId'].unique()\n",
        "movies = movies[movies['movieId'].isin(movie_ids)].copy()\n",
        "links = links[links['movieId'].isin(movie_ids)].copy()\n",
        "\n",
        "# 마지막 날짜 확인\n",
        "last_rating_date = ratings['timestamp'].max()\n",
        "last_tag_date = tags['timestamp'].max()\n",
        "\n",
        "# 확인\n",
        "print(\"ratings shape:\", ratings.shape)\n",
        "#print(\"tags shape:\", tags.shape)\n",
        "#print(\"movies shape:\", movies.shape)\n",
        "#print(\"links shape:\", links.shape)\n",
        "#print(\"ratings 마지막 날짜:\", last_rating_date)\n",
        "#print(\"tags 마지막 날짜:\", last_tag_date)\n"
      ],
      "metadata": {
        "id": "ta7y8aja9x1Z",
        "colab": {
          "base_uri": "https://localhost:8080/"
        },
        "outputId": "c54fea61-d36b-4b68-eb6a-009f30e636da"
      },
      "execution_count": null,
      "outputs": [
        {
          "output_type": "stream",
          "name": "stdout",
          "text": [
            "ratings shape: (4635230, 4)\n"
          ]
        }
      ]
    },
    {
      "cell_type": "markdown",
      "source": [
        "# **Heavy Rater 가중치 설정**"
      ],
      "metadata": {
        "id": "yu5sfOoXk2IA"
      }
    },
    {
      "cell_type": "code",
      "source": [
        "\n",
        "user_stats = ratings.groupby(\"userId\").agg(rating_count=(\"rating\",\"count\")).reset_index()\n",
        "threshold = np.percentile(user_stats[\"rating_count\"], 90)\n",
        "heavy_raters = set(user_stats[user_stats[\"rating_count\"] >= threshold][\"userId\"])\n",
        "\n",
        "ratings['weight_hr'] = np.where(ratings['userId'].isin(heavy_raters), 1.2, 1.0)\n"
      ],
      "metadata": {
        "id": "xeG_4O2Oknse"
      },
      "execution_count": null,
      "outputs": []
    },
    {
      "cell_type": "markdown",
      "source": [
        "# **Content Age 가중치 설정**"
      ],
      "metadata": {
        "id": "ea8Un1qnbU9s"
      }
    },
    {
      "cell_type": "code",
      "source": [
        "\n",
        "movies['release_year'] = movies['title'].str.extract(r'\\((\\d{4})\\)').astype(float)\n",
        "\n",
        "ratings = ratings.merge(movies[['movieId','release_year']], on='movieId', how='left')\n",
        "ratings['rating_year'] = ratings['timestamp'].dt.year\n",
        "ratings['content_age'] = ratings['rating_year'] - ratings['release_year']\n",
        "\n",
        "user_age_pref = ratings.groupby('userId')['content_age'].mean().reset_index()\n",
        "median_age = user_age_pref['content_age'].median()\n",
        "\n",
        "user_age_pref['age_pref'] = np.where(user_age_pref['content_age'] >= median_age, \"retro\", \"trend\")\n",
        "\n",
        "ratings = ratings.merge(user_age_pref[['userId','age_pref']], on='userId', how='left')\n",
        "ratings['weight_ca'] = np.where(ratings['age_pref']==\"trend\", 1.1, 1.0)\n",
        "\n"
      ],
      "metadata": {
        "id": "tEMccBGYb4Z3"
      },
      "execution_count": null,
      "outputs": []
    },
    {
      "cell_type": "markdown",
      "source": [
        "# **장르 선호도 가중치 설정**"
      ],
      "metadata": {
        "id": "5BsDanHYbcX4"
      }
    },
    {
      "cell_type": "code",
      "source": [
        "# 1. 장르 분리\n",
        "\n",
        "movies['genres_list'] = movies['genres'].str.split('|')\n",
        "\n",
        "# ratings에 genres_list 붙이기\n",
        "if 'genres_list' in ratings.columns:\n",
        "    ratings = ratings.drop(columns=['genres_list'])\n",
        "\n",
        "ratings = ratings.merge(movies[['movieId','genres_list']], on='movieId', how='left')\n",
        "\n",
        "# 장르별로 행 분리\n",
        "ratings_exploded = ratings.explode('genres_list')\n",
        "\n",
        "# 2. 유저별 장르별 평균 평점\n",
        "\n",
        "user_genre_pref = (\n",
        "    ratings_exploded\n",
        "    .groupby(['userId','genres_list'])['rating']\n",
        "    .mean()\n",
        "    .reset_index()\n",
        ")\n",
        "\n",
        "# 3. 각 유저별 상위 10% 장르 판별\n",
        "\n",
        "def top_genres(df):\n",
        "    cutoff = np.percentile(df['rating'], 90)  # 상위 10% 기준\n",
        "    df['is_top_genre'] = np.where(df['rating'] >= cutoff, 1, 0)\n",
        "    return df\n",
        "\n",
        "user_genre_pref = (\n",
        "    user_genre_pref\n",
        "    .groupby('userId')\n",
        "    .apply(top_genres)\n",
        "    .reset_index(drop=True)\n",
        ")\n",
        "\n",
        "# 4. ratings에 Top Genre 플래그/가중치 부여\n",
        "\n",
        "ratings_exploded = ratings_exploded.merge(\n",
        "    user_genre_pref[['userId','genres_list','is_top_genre']],\n",
        "    on=['userId','genres_list'], how='left'\n",
        ")\n",
        "\n",
        "ratings_exploded['weight_tg'] = np.where(ratings_exploded['is_top_genre']==1, 1.2, 1.0)\n"
      ],
      "metadata": {
        "colab": {
          "base_uri": "https://localhost:8080/"
        },
        "id": "iu2wsMqySMRw",
        "outputId": "72229433-8885-409b-f948-66b9fa7ad771"
      },
      "execution_count": null,
      "outputs": [
        {
          "output_type": "stream",
          "name": "stderr",
          "text": [
            "/tmp/ipython-input-3655198033.py:33: DeprecationWarning: DataFrameGroupBy.apply operated on the grouping columns. This behavior is deprecated, and in a future version of pandas the grouping columns will be excluded from the operation. Either pass `include_groups=False` to exclude the groupings or explicitly select the grouping columns after groupby to silence this warning.\n",
            "  .apply(top_genres)\n"
          ]
        }
      ]
    },
    {
      "cell_type": "markdown",
      "source": [
        "# **가중치 설정**"
      ],
      "metadata": {
        "id": "Hi06Lq2bbe-_"
      }
    },
    {
      "cell_type": "code",
      "source": [
        "# 최종 가중치\n",
        "ratings_exploded['final_weight'] = (\n",
        "    ratings_exploded['weight_hr'] *\n",
        "    ratings_exploded['weight_ca'] *\n",
        "    ratings_exploded['weight_tg']\n",
        ")\n",
        "\n",
        "ratings_exploded['weighted_rating'] = ratings_exploded['rating'] * ratings_exploded['final_weight']\n",
        "\n",
        "# 가중치 정규화\n",
        "max_rating = ratings_exploded['weighted_rating'].max()\n",
        "ratings_exploded['weighted_rating_norm'] = (\n",
        "    ratings_exploded['weighted_rating'] / max_rating * 5\n",
        ")\n"
      ],
      "metadata": {
        "id": "w_sKbQecSQL_"
      },
      "execution_count": null,
      "outputs": []
    },
    {
      "cell_type": "markdown",
      "source": [
        "# **KNN**"
      ],
      "metadata": {
        "id": "U3aBlIE0bh1H"
      }
    },
    {
      "cell_type": "code",
      "source": [
        "# -----------------------------\n",
        "# 1. (userId, movieId) 단위로 집계\n",
        "# -----------------------------\n",
        "user_movie_ratings = (\n",
        "    ratings_exploded\n",
        "    .groupby(['userId','movieId'])['weighted_rating']\n",
        "    .mean()   # 장르 explode된 영화들 평균\n",
        "    .reset_index()\n",
        ")\n",
        "\n",
        "# -----------------------------\n",
        "# 2. User-Item Matrix 생성\n",
        "# -----------------------------\n",
        "user_item_matrix = user_movie_ratings.pivot(\n",
        "    index=\"userId\", columns=\"movieId\", values=\"weighted_rating\"\n",
        ").fillna(0)\n",
        "\n",
        "# -----------------------------\n",
        "# 3. KNN 모델 학습 (사용자 기반)\n",
        "# -----------------------------\n",
        "from scipy.sparse import csr_matrix\n",
        "from sklearn.neighbors import NearestNeighbors\n",
        "\n",
        "sparse_matrix = csr_matrix(user_item_matrix.values)\n",
        "\n",
        "model_knn = NearestNeighbors(metric=\"cosine\", algorithm=\"brute\")\n",
        "model_knn.fit(sparse_matrix)\n",
        "\n",
        "# -----------------------------\n",
        "# 4. 추천 함수 정의\n",
        "# -----------------------------\n",
        "def recommend_for_user(user_id, n_neighbors=5, top_n=10):\n",
        "    if user_id not in user_item_matrix.index:\n",
        "        raise ValueError(f\"userId {user_id} not found in data\")\n",
        "\n",
        "    # 유저 인덱스 찾기\n",
        "    user_index = user_item_matrix.index.get_loc(user_id)\n",
        "\n",
        "    # 가까운 이웃 유저 탐색\n",
        "    distances, indices = model_knn.kneighbors(\n",
        "        sparse_matrix[user_index], n_neighbors=n_neighbors+1\n",
        "    )\n",
        "\n",
        "    # 자기 자신 제외\n",
        "    neighbor_ids = [user_item_matrix.index[i] for i in indices.flatten() if i != user_index]\n",
        "\n",
        "    # 이웃 유저들의 평점 가져오기\n",
        "    neighbor_ratings = user_movie_ratings[user_movie_ratings['userId'].isin(neighbor_ids)]\n",
        "\n",
        "    # 내가 이미 본 영화 제외\n",
        "    seen_movies = user_movie_ratings[user_movie_ratings['userId']==user_id]['movieId'].unique()\n",
        "\n",
        "    candidate_movies = (\n",
        "        neighbor_ratings[~neighbor_ratings['movieId'].isin(seen_movies)]\n",
        "        .groupby('movieId')['weighted_rating']\n",
        "        .mean()\n",
        "        .sort_values(ascending=False)\n",
        "        .head(top_n)\n",
        "        .reset_index()\n",
        "    )\n",
        "\n",
        "    # 영화 제목 붙이기\n",
        "    candidate_movies = candidate_movies.merge(\n",
        "        movies[['movieId','title']], on='movieId', how='left'\n",
        "    )\n",
        "\n",
        "    return candidate_movies\n"
      ],
      "metadata": {
        "id": "wSZRP8JESy0V"
      },
      "execution_count": null,
      "outputs": []
    },
    {
      "cell_type": "code",
      "source": [
        "import random\n",
        "\n",
        "# 현재 user_item_matrix에 존재하는 유저들\n",
        "all_users = user_item_matrix.index.tolist()\n",
        "\n",
        "# 랜덤으로 한 명 뽑기\n",
        "random_user = random.choice(all_users)\n",
        "print(\"추천 테스트 유저 ID:\", random_user)\n",
        "\n",
        "# 추천 실행\n",
        "print(recommend_for_user(random_user, n_neighbors=5, top_n=10))\n"
      ],
      "metadata": {
        "colab": {
          "base_uri": "https://localhost:8080/"
        },
        "id": "6QzCewmXUOgg",
        "outputId": "2194d626-77bf-43e2-c517-0fedd1e0d6fb"
      },
      "execution_count": null,
      "outputs": [
        {
          "output_type": "stream",
          "name": "stdout",
          "text": [
            "추천 테스트 유저 ID: 127637\n",
            "   movieId  weighted_rating                                              title\n",
            "0   182723             7.92                        Cosmos: A Spacetime Odissey\n",
            "1   126430             6.93                                 The Pacific (2010)\n",
            "2   171011             6.60                             Planet Earth II (2016)\n",
            "3   128093             6.60             Bo Burnham: Words, Words, Words (2010)\n",
            "4   171495             6.48                                             Cosmos\n",
            "5   176601             6.48                                       Black Mirror\n",
            "6   101074             6.30                Legend of Sleepy Hollow, The (1949)\n",
            "7   131724             6.18  The Jinx: The Life and Deaths of Robert Durst ...\n",
            "8   167792             6.00                          What's Opera, Doc? (1957)\n",
            "9   136477             6.00                          One Froggy Evening (1955)\n"
          ]
        }
      ]
    },
    {
      "cell_type": "code",
      "source": [],
      "metadata": {
        "id": "JKRKRRwoagMI"
      },
      "execution_count": null,
      "outputs": []
    }
  ]
}